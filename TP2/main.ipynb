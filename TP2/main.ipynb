{
 "cells": [
  {
   "cell_type": "markdown",
   "metadata": {},
   "source": [
    "#  NLP-lab :  Word embeddings\n",
    "\n",
    "In this series of exercises, we will explore three word embeddings:\n",
    "\n",
    "* [Collobert & Weston](http://www.jmlr.org/papers/volume12/collobert11a/collobert11a.pdf) https://ronan.collobert.com/senna/\n",
    "* [Word2Vec](https://arxiv.org/abs/1301.3781)\n",
    "* [BERT](https://huggingface.co/bert-base-uncased) \n",
    "\n",
    "\n",
    "In the code already provided, add your code to the place indicated by `YOUR CODE HERE`.\n",
    "\n",
    "**Important** : do NOT commit the data and embedding files in your repository git : it is a waste of resources and it takes more time to clone.\n",
    "> Use https://docs.github.com/en/get-started/getting-started-with-git/ignoring-files\n"
   ]
  },
  {
   "cell_type": "code",
   "execution_count": 2,
   "metadata": {},
   "outputs": [],
   "source": [
    "# basic imports\n",
    "import os\n",
    "import matplotlib.pyplot as plt\n",
    "# display matplotlib graphics in notebook\n",
    "%matplotlib inline \n",
    "import seaborn as sns\n",
    "\n",
    "# disable warnings for libraries\n",
    "import warnings\n",
    "warnings.filterwarnings(\"ignore\")\n",
    "\n",
    "# configure logger\n",
    "import logging\n",
    "logging.basicConfig(format='%(asctime)s %(levelname)s:%(message)s', level=logging.INFO, datefmt='%I:%M:%S')\n",
    "logger = logging.getLogger(__name__)"
   ]
  },
  {
   "cell_type": "markdown",
   "metadata": {},
   "source": [
    "###  Embeddings exploration with Collobert's embeddings\n",
    "\n",
    "Upload the files containing the embeddings to `data`:\n",
    "* Collobert (size 50): [collobert_embeddings.txt.zip](https://storage.teklia.com/shared/deepnlp-labs/collobert_embeddings.txt.zip) which contains the embedding vectors and [collobert_words.lst](https://storage.teklia.com/shared/deepnlp-labs/collobert_words.lst) which contains the associated words;\n",
    "\n",
    "You need to unzip the files to load them.\n",
    "\n",
    "Feel free to open the files to see what they contain (it's sometimes surprising).\n",
    "\n",
    "#### Questions: \n",
    ">* Add the files to your .gitignore\n",
    ">* Give the size in Mb of the embeddings files before unzipping.\n",
    "\n",
    "<span style=\"color: darkred;\">24.9 Mo = 199.2 Mb</span>\n",
    ">* By exploring the content of the embedding files, give the number of words for which these files provide embeddings.\n",
    "\n",
    "<span style=\"color: darkred;\">There are 130k rows in the .lst file hence as many embeddings. However, only 129 973 actual words appear in the .txt file.</span>"
   ]
  },
  {
   "cell_type": "markdown",
   "metadata": {},
   "source": [
    "### List of closest words\n",
    "\n",
    "The aim of this exercise is to list the closest words to a given word for the Collobert embedding. First, we'll load the vectors of the Collobert embedding into a numpy array and the associated words into a python list. Then we'll use the [scipy KDTree](https://docs.scipy.org/doc/scipy/reference/generated/scipy.spatial.KDTree.html) data structure to quickly search for the vectors closest to a series of words.\n",
    "\n",
    "\n",
    "#### Question: \n",
    ">* load embedding vectors from the file `data/collobert_embeddings.txt` using the numpy function [genfromtxt](https://numpy.org/doc/stable/reference/generated/numpy.genfromtxt.html)\n",
    ">* load the words associated with the vectors from the `data/collobert_words.lst` file into a python list (using `open()` and `readlines()`)\n",
    ">* check that the sizes are correct\n"
   ]
  },
  {
   "cell_type": "code",
   "execution_count": 3,
   "metadata": {},
   "outputs": [
    {
     "name": "stdout",
     "output_type": "stream",
     "text": [
      "Sizes are correct :-)\n"
     ]
    }
   ],
   "source": [
    "import numpy as np\n",
    "\n",
    "# Load embedding vectors\n",
    "embeddings = np.genfromtxt('collobert_embeddings.txt')\n",
    "\n",
    "# Load associated words\n",
    "with open('collobert_words.lst', 'r') as file:\n",
    "    words = file.readlines()\n",
    "words = [word.strip().strip(\"''\") for word in words] # clean leading and trailing characters\n",
    "\n",
    "# Check sizes\n",
    "if len(embeddings) == len(words):\n",
    "    print(\"Sizes are correct :-)\")\n",
    "else:\n",
    "    print(\"Sizes are not correct :-(\")"
   ]
  },
  {
   "cell_type": "markdown",
   "metadata": {},
   "source": [
    "KD trees are a very efficient data structure for storing large sets of points in a multi-dimensional space and performing very efficient nearest-neighbour searches. \n",
    "\n",
    "#### Question \n",
    "> * Initialise the [KDTree](https://docs.scipy.org/doc/scipy/reference/generated/scipy.spatial.KDTree.html) structure with Collobert's embedding vectors.\n",
    "> * Using the [tree.query](https://docs.scipy.org/doc/scipy/reference/generated/scipy.spatial.KDTree.query.html#scipy.spatial.KDTree.query) function, display the 5 nearest words for the following words: ‘mother’, ‘computer’, ‘dentist’, ‘war’, ‘president’, ‘secretary’, ‘nurse’.  *Hint: you can use the function `collobert_words.index(w)` to obtain the index of a word in the list of words*.\n",
    "> * Create a `words_plus_neighbors` list containing the words and all their neighbours (for the next question)"
   ]
  },
  {
   "cell_type": "code",
   "execution_count": 4,
   "metadata": {},
   "outputs": [
    {
     "name": "stdout",
     "output_type": "stream",
     "text": [
      "5 nearest words to...\n",
      "♢ mother = e, tryin, u, v, stepsisters\n",
      "♢ computer = laptop, multimedia, desktop, software, wiki\n",
      "♢ dentist = pharmacist, midwife, physician, housekeeper, veterinarian\n",
      "♢ war = battle, great, death, transmigration, borderland\n",
      "♢ president = governor, chairman, mayor, secretary, senator\n",
      "♢ secretary = minister, treasurer, chairman, commissioner, undersecretary\n",
      "♢ nurse = physician, veterinarian, dentist, surgeon, midwife\n"
     ]
    }
   ],
   "source": [
    "from scipy.spatial import KDTree\n",
    "\n",
    "# initialise the KDTree structure\n",
    "kdtree = KDTree(embeddings)\n",
    "\n",
    "# display 5 nearest words and create a list\n",
    "def get_nearest_words(query_word, k=5):\n",
    "    idx = words.index(query_word) # get index of the query word\n",
    "    dist, indices = kdtree.query(embeddings[idx], k+1) # get index of the nearest words, excluding the query word\n",
    "    nearest_words = [words[i] for i in indices[1:]] # retrieve the nearest words\n",
    "    return nearest_words\n",
    "\n",
    "words_plus_neighbors = []\n",
    "\n",
    "print(\"5 nearest words to...\")\n",
    "for word in ['mother', 'computer', 'dentist', 'war', 'president', 'secretary', 'nurse']:\n",
    "    nearest = get_nearest_words(word)\n",
    "    words_plus_neighbors.append([word] + nearest)\n",
    "    print(f\"♢ {word} = {', '.join(nearest)}\")"
   ]
  },
  {
   "cell_type": "markdown",
   "metadata": {},
   "source": [
    "### Visualisation with T-SNE\n",
    "\n",
    "Embeddings are vectors with several hundred dimensions. It is therefore not possible to display them in their original space. However, it is possible to apply dimension reduction algorithms to display them in 2 or 3 dimensions. One of the dimension reduction algorithms allowing 2D visualisation is [tSNE](https://en.wikipedia.org/wiki/T-distributed_stochastic_neighbor_embedding). \n",
    "\n",
    "#### Question\n",
    "> * Create a `word_vectors` object of type `np.array` from a list containing all the embeddings of the words in the `words_plus_neighbors` list.\n",
    "> * Create a tSNE object from the `from sklearn.manifold import TSNE` library with the parameters `random_state=0`, `n_iter=2000` and `perplexity=15.0` for a 2-dimensional view.\n",
    "> * Calculate *T* the tSNE transformation of the `word_vectors` by applying function `.fit_transform(word_vectors)` to the tSNE object. This function estimates the parameters of the tSNE transformation and returns the reduced-dimension representation of the vectors used for estimation.\n",
    "> * Use the `scatterplot` function from [seaborn](https://seaborn.pydata.org/generated/seaborn.scatterplot.html) to represent points in 2 dimensions and add word labels using the `plt.annotate` function."
   ]
  },
  {
   "cell_type": "code",
   "execution_count": 5,
   "metadata": {},
   "outputs": [
    {
     "data": {
      "image/png": "[encoded data removed]",
      "text/plain": [
       "<Figure size 640x480 with 1 Axes>"
      ]
     },
     "metadata": {},
     "output_type": "display_data"
    }
   ],
   "source": [
    "from sklearn.manifold import TSNE\n",
    "# graphics\n",
    "import matplotlib.pyplot as plt\n",
    "# display matplotlib graphics in notebook\n",
    "%matplotlib inline \n",
    "import seaborn as sns\n",
    "\n",
    "# retrieve the word representation\n",
    "word_vectors = []\n",
    "for query in words_plus_neighbors:\n",
    "    for word in query:\n",
    "        idx = words.index(word)\n",
    "        word_vectors.append(embeddings[idx])\n",
    "word_vectors = np.array(word_vectors)\n",
    "\n",
    "# create the tSNE transform\n",
    "tsne = TSNE(n_components=2, perplexity=15.0, max_iter=2000, random_state=0)\n",
    "\n",
    "# fit and transform the word vectors, store in T\n",
    "T = tsne.fit_transform(word_vectors)\n",
    "\n",
    "# plot\n",
    "fig = plt.figure()\n",
    "fig.patch.set_facecolor('#f9f9f9')\n",
    "\n",
    "sns.set(rc={'figure.figsize':(14, 8)})\n",
    "sns.set(font_scale=1)\n",
    "\n",
    "sns.scatterplot(x=T[:, 0], y=T[:, 1])\n",
    "\n",
    "for i, word in enumerate([word for group in words_plus_neighbors for word in group]):\n",
    "    plt.annotate(word, (T[i, 0], T[i, 1]), fontsize=12, alpha=0.8, xytext=(5, 5), textcoords='offset points')"
   ]
  },
  {
   "cell_type": "markdown",
   "metadata": {},
   "source": [
    "### Semantic arithmetic with Word2Vec\n",
    "\n",
    "We will use a Word2Vec model pre-trained on the French Wac corpus.  This model has been trained on a corpus of 1 billion French words. \n",
    "\n",
    "This embedding is available in 2 formats:\n",
    "- a text format for easy exploration of the model :\n",
    "    - [frWac_non_lem_no_postag_no_phrase_200_cbow_cut100.txt](https://storage.teklia.com/shared/deepnlp-labs/frWac_non_lem_no_postag_no_phrase_200_cbow_cut100.txt)\n",
    "- a binary format that can be loaded using the Gensim library: \n",
    "    - [enWac_non_lem_no_postag_no_phrase_200_cbow_cut100.bin](https://storage.teklia.com/shared/deepnlp-labs/frWac_non_lem_no_postag_no_phrase_200_cbow_cut100.bin)\n",
    "\n",
    "Download the text file onto your machine to analyse it.\n",
    "\n",
    "#### Question: \n",
    ">* Add the file to your .gitignore\n",
    ">* Give the size in Mb of the embedding files\n",
    "\n",
    "<span style=\"color: darkred;\">121.6 Mo = 982.8 Mb </span>\n",
    "\n",
    ">* By exploring the contents of the embedding file in text format, give the number of words for which this model provides embeddings and the size of the embedding for each word.\n",
    "\n",
    "<span style=\"color: darkred;\">There are 155 562 words in the model, embedded in a space with 200 dimensions.</span>"
   ]
  },
  {
   "cell_type": "markdown",
   "metadata": {},
   "source": [
    "#### Word similarity\n",
    "\n",
    "We are now going to use the [Gensim library](https://radimrehurek.com/gensim/) to load the Word2Vec model and use it. \n",
    "\n",
    "#### Question: \n",
    ">* Modify the following code to load the Word2Vec template file in binary format using [load_word2vec](https://radimrehurek.com/gensim/models/keyedvectors.html#how-to-obtain-word-vectors)\n",
    ">* Choose a couple of words and find the closest words according to the model using [most_similar](https://radimrehurek.com/gensim/models/keyedvectors.html#gensim.models.keyedvectors.KeyedVectors.most_similar)\n",
    ">* To guess the meaning of the words ‘yokohama’, ‘kanto’ and ‘shamisen’, look for their nearest neighbours. Explain the results."
   ]
  },
  {
   "cell_type": "code",
   "execution_count": null,
   "metadata": {},
   "outputs": [],
   "source": [
    "from gensim.models import KeyedVectors\n",
    "\n",
    "# load Word2Vec template\n",
    "embedding_file =\"frWac_non_lem_no_postag_no_phrase_200_cbow_cut100.bin\"\n",
    "model = KeyedVectors.load_word2vec_format(embedding_file, binary=True, unicode_errors=\"ignore\")\n",
    "\n",
    "# find closest words\n",
    "print(\"Words most similar to 'canard':\")\n",
    "for word, simil in model.most_similar(\"canard\")[1:]:\n",
    "    print(f\"♢ {word}\")\n",
    "\n",
    "print(\"Words most similar to 'truie':\")\n",
    "for word, simil in model.most_similar(\"truie\")[1:]:\n",
    "    print(f\"♢ {word}\")"
   ]
  },
  {
   "cell_type": "code",
   "execution_count": 26,
   "metadata": {},
   "outputs": [
    {
     "name": "stdout",
     "output_type": "stream",
     "text": [
      "Words most similar to 'yokohama':\n",
      "♢ tôkyô\n",
      "♢ japon\n",
      "♢ nagoya\n",
      "♢ kyushu\n",
      "♢ osaka\n",
      "♢ fukuoka\n",
      "♢ japonaise\n",
      "♢ sendai\n",
      "♢ japonais\n",
      "Words most similar to 'kanto':\n",
      "♢ mewtwo\n",
      "♢ pokémons\n",
      "♢ saito\n",
      "♢ pokédex\n",
      "♢ yusuke\n",
      "♢ osaka\n",
      "♢ shôgun\n",
      "♢ jin\n",
      "♢ honshu\n"
     ]
    }
   ],
   "source": [
    "# guess the meanings of three words\n",
    "print(\"Words most similar to 'yokohama':\")\n",
    "for word, simil in model.most_similar(\"yokohama\")[1:]:\n",
    "    print(f\"♢ {word}\")\n",
    "\n",
    "print(\"Words most similar to 'kanto':\")\n",
    "for word, simil in model.most_similar(\"kanto\")[1:]:\n",
    "    print(f\"♢ {word}\")"
   ]
  },
  {
   "cell_type": "markdown",
   "metadata": {},
   "source": [
    "<span style=\"color: darkred;\">Yokohama seems to be a city and Kanto a region. The word Shamishen is not present in the model.</span>"
   ]
  },
  {
   "cell_type": "markdown",
   "metadata": {},
   "source": [
    "#### Semantic arithmetic\n",
    "\n",
    "One of the most original properties of Word2Vec embeddings is that the semantic relationships between vectors can be modelled by arithmetic operations. Given vectors representing the words `king`, `man` and `woman`, it is possible to compute the vector `v` as :  \n",
    "\n",
    "`v = vector(king)-vector(man)+vector(woman)`\n",
    "\n",
    "This operation corresponds to the following semantic relationship: *The king is to the man what the queen is to the woman*, which translates into the following arithmetic: *the concept of king, minus the concept of man plus the concept of woman gives the concept of queen*.\n",
    "\n",
    "In fact, if we look in the embedding for the word whose closest vector is `v`, we find `reine`.\n",
    "\n",
    "#### Question: \n",
    ">* using the function [most_similar](https://radimrehurek.com/gensim/models/keyedvectors.html#gensim.models.keyedvectors.KeyedVectors.most_similar) specifying the arguments `positive` for the vectors to be added and `negative` for the vectors to be subtracted, check the relationship *the concept of king, minus the concept of man plus the concept of woman gives the concept of queen*.\n",
    ">* Using the same method, find XXX in the following semantic relations\n",
    ">   * Paris is to France what XXX is to Japan.\n",
    ">   * Chevalier is to France what XXX is to Japan."
   ]
  },
  {
   "cell_type": "code",
   "execution_count": 58,
   "metadata": {},
   "outputs": [
    {
     "name": "stdout",
     "output_type": "stream",
     "text": [
      "The word most similar to roi - homme + reine is reine.\n",
      "Paris is to France what tôkyô is to Japan.\n",
      "Chevalier is to France what chevalier is to Japan.\n"
     ]
    }
   ],
   "source": [
    "v1 = model['roi'] - model['homme'] + model['femme']\n",
    "print(f\"The word most similar to roi - homme + reine is {model.most_similar(v1)[1][0]}.\")\n",
    "\n",
    "v2 = model['paris'] - model['france'] + model['japan']\n",
    "print(f\"Paris is to France what {model.most_similar(v2)[2][0]} is to Japan.\")\n",
    "\n",
    "v3 = model['chevalier'] - model['france'] + model['japan']\n",
    "print(f\"Chevalier is to France what {model.most_similar(v3)[1][0]} is to Japan.\")"
   ]
  },
  {
   "cell_type": "markdown",
   "metadata": {},
   "source": [
    "<span style=\"color: darkred;\">The semantic arithmetic does not seem to work in the case of 'chevalier', maybe because there is not a direct equivalent in the Japanese language.</span>"
   ]
  },
  {
   "cell_type": "markdown",
   "metadata": {},
   "source": [
    "## Contextual embeddings with BERT \n",
    "\n",
    "BERT was one of the first freely available Transformer language models, trained on large corpora. Many other models are available on HuggingFace.\n",
    "\n",
    "As BERT is a contextual model, it is necessary to have it predict whole sentences in order to study the word embeddings it produces. In this section, we will compare the embeddings obtained for polysemous words according to the sentence in which they are used.\n",
    "\n",
    "In English, *plant* has two meanings: plant and vegetable. With a non-contextual embedding, such as Glove or Colobert, these two meanings of the word plus are associated with an identical embedding. With BERT, we'll see that the same word can have several embeddings depending on the context.\n",
    "\n",
    "First, load the BERT model and tokenizer from HuggingFace : "
   ]
  },
  {
   "cell_type": "code",
   "execution_count": 63,
   "metadata": {
    "scrolled": true
   },
   "outputs": [
    {
     "data": {
      "text/plain": [
       "BertModel(\n",
       "  (embeddings): BertEmbeddings(\n",
       "    (word_embeddings): Embedding(30522, 768, padding_idx=0)\n",
       "    (position_embeddings): Embedding(512, 768)\n",
       "    (token_type_embeddings): Embedding(2, 768)\n",
       "    (LayerNorm): LayerNorm((768,), eps=1e-12, elementwise_affine=True)\n",
       "    (dropout): Dropout(p=0.1, inplace=False)\n",
       "  )\n",
       "  (encoder): BertEncoder(\n",
       "    (layer): ModuleList(\n",
       "      (0-11): 12 x BertLayer(\n",
       "        (attention): BertAttention(\n",
       "          (self): BertSdpaSelfAttention(\n",
       "            (query): Linear(in_features=768, out_features=768, bias=True)\n",
       "            (key): Linear(in_features=768, out_features=768, bias=True)\n",
       "            (value): Linear(in_features=768, out_features=768, bias=True)\n",
       "            (dropout): Dropout(p=0.1, inplace=False)\n",
       "          )\n",
       "          (output): BertSelfOutput(\n",
       "            (dense): Linear(in_features=768, out_features=768, bias=True)\n",
       "            (LayerNorm): LayerNorm((768,), eps=1e-12, elementwise_affine=True)\n",
       "            (dropout): Dropout(p=0.1, inplace=False)\n",
       "          )\n",
       "        )\n",
       "        (intermediate): BertIntermediate(\n",
       "          (dense): Linear(in_features=768, out_features=3072, bias=True)\n",
       "          (intermediate_act_fn): GELUActivation()\n",
       "        )\n",
       "        (output): BertOutput(\n",
       "          (dense): Linear(in_features=3072, out_features=768, bias=True)\n",
       "          (LayerNorm): LayerNorm((768,), eps=1e-12, elementwise_affine=True)\n",
       "          (dropout): Dropout(p=0.1, inplace=False)\n",
       "        )\n",
       "      )\n",
       "    )\n",
       "  )\n",
       "  (pooler): BertPooler(\n",
       "    (dense): Linear(in_features=768, out_features=768, bias=True)\n",
       "    (activation): Tanh()\n",
       "  )\n",
       ")"
      ]
     },
     "execution_count": 63,
     "metadata": {},
     "output_type": "execute_result"
    }
   ],
   "source": [
    "import torch\n",
    "from transformers import BertTokenizer, BertModel\n",
    "tokenizer = BertTokenizer.from_pretrained('bert-base-uncased')\n",
    "# Load pre-trained model \n",
    "model = BertModel.from_pretrained('bert-base-uncased',\n",
    "                                  output_hidden_states = True, # to access the hidden states\n",
    "                                  )\n",
    "# set the model to \"evaluation\" mode\n",
    "model.eval()"
   ]
  },
  {
   "cell_type": "markdown",
   "metadata": {},
   "source": [
    "### Tokenizer\n",
    "\n",
    "Language models are trained with a specific breakdown of sentences into tokens. These tokens can be words or parts of words. It is necessary to use the tokenizer corresponding to each model.\n",
    "\n",
    "tokenizer.vocab.keys() gives the list of all the tokens known for the language model. \n",
    "\n",
    "#### Question\n",
    ">* How many different tokens are known to the BERT tokenizer?\n",
    ">* Display a hundred tokens at random. What do you find?\n",
    "\n",
    "<span style=\"color: darkred;\">There are:</span>\n",
    "\n",
    "<span style=\"color: darkred;\">♢ Unused token, of the form [unusedXXX]</span>\n",
    "\n",
    "<span style=\"color: darkred;\">♢ Subword tokens, of the form ##XXX</span>\n",
    "\n",
    "<span style=\"color: darkred;\">♢ Tokens refering to non-roman script, like ス</span>"
   ]
  },
  {
   "cell_type": "code",
   "execution_count": 68,
   "metadata": {},
   "outputs": [
    {
     "name": "stdout",
     "output_type": "stream",
     "text": [
      "Vocabulary size of BERT-base-uncased: 30522\n",
      "['jc', 'paddy', '-', 'pdf', 'steep', '##ion', 'ashford', 'savannah', 'aleksandr', 'painted', '日', '##stle', '≥', '##間', 'aston', '##×', 'eminent', '##uded', 'fungi', 'furrowed', '##wang', 'speculated', 'bala', 'military', 'suppliers', 'holloway', 'flatly', '##lism', 'opposes', 'cd', 'wolverhampton', 'chimed', 'opium', 'joanna', '[unused316]', '##ik', 'act', 'troops', '[unused446]', '##ible', 'ellison', 'retro', 'brendan', 'nominees', 'embraced', 'fragments', 'kv', '[unused465]', '##ь', 'involuntary', 'sobbed', '##mac', 'creamy', 'ス', 'modified', 'defined', 'stuffed', 'unique', 'lancashire', '##rbin', 'married', 'dramatically', 'predictions', 'kaiser', 'besides', 'called', 'energies', '##ication', '##ᅩ', 'grimace', '##l', '##ن', 'runoff', 'forgetting', '[unused33]', 'gotten', 'persians', '##space', '##chison', 'ruling', 'disrepair', '##hand', 'greco', 'salesman', '##tr', '車', 'face', 'interview', 'cervical', '##ifying', 'arm', '##gli', 'pulsed', 'unpleasant', '2500', 'azure', 'welcomed', 'expert', '##duction', 'hayden']\n"
     ]
    }
   ],
   "source": [
    "import random\n",
    "\n",
    "# number of token in tokenizer\n",
    "tokenizer = BertTokenizer.from_pretrained('bert-base-uncased')\n",
    "vocab = tokenizer.get_vocab()\n",
    "print(f\"Vocabulary size of BERT-base-uncased: {len(vocab)}\")\n",
    "\n",
    "# random sample of 100 tokens\n",
    "all_tokens = list(vocab.keys())\n",
    "random_tokens = random.sample(all_tokens, 100)\n",
    "\n",
    "print(random_tokens)"
   ]
  },
  {
   "cell_type": "markdown",
   "metadata": {},
   "source": [
    "The tokenizer splits sentences and transforms the elements (words or sub-words) into clues. \n",
    "\n",
    "BERT can process several sentences, but you need to tell it how the sentences (segments) have been split, with an index: 0 for the first sentence, 1 for the second. \n",
    "\n",
    "Two specific tokens must also be added: \n",
    "* CLS], a specific token used for sentence classification\n",
    "* SEP], the end of sentence token.\n",
    "\n",
    "#### Question\n",
    ">* Apply the bert_tokenize function to the 3 phases and keep the 3 vectors (index, token, segment).\n",
    ">* Display this information for each of the sentences and check that the word *plant* has the same token index in the two sentences in which it appears."
   ]
  },
  {
   "cell_type": "code",
   "execution_count": 87,
   "metadata": {},
   "outputs": [
    {
     "name": "stdout",
     "output_type": "stream",
     "text": [
      "The word plant has the same token index in sentences 1 and 3.\n"
     ]
    }
   ],
   "source": [
    "snt1 = \"The plant has reached its maximal level of production.\"\n",
    "snt2 = \"The cars are assembled inside the factory.\"\n",
    "snt3 = \"A plant needs sunlight and water to grow well.\"\n",
    "\n",
    "\n",
    "def bert_tokenize(snt):\n",
    "    \"\"\" Apply the BERT tokenizer to a list of words representing a sentence\n",
    "        and return 3 lists: \n",
    "        - list of token indx\n",
    "        - list of token for debugging, not used by the BERT model\n",
    "        - list of sentence index\n",
    "        \"\"\"\n",
    "    # Add the special tokens.\n",
    "    tagged_snt = \"[CLS] \" + snt + \" [SEP]\" \n",
    "    # Tokenize\n",
    "    tokenized_snt = tokenizer.tokenize(tagged_snt)\n",
    "    # convert tokens to indices\n",
    "    indexed_snt = tokenizer.convert_tokens_to_ids(tokenized_snt)\n",
    "    # mark the words in sentence.\n",
    "    segments_ids = [1] * len(tokenized_snt)\n",
    "\n",
    "    return (indexed_snt, tokenized_snt, segments_ids)\n",
    "\n",
    "# YOUR CODE HERE\n",
    "snt1_index = bert_tokenize(snt1)[0]\n",
    "snt1_token = bert_tokenize(snt1)[1]\n",
    "snt1_segment = bert_tokenize(snt1)[2]\n",
    "\n",
    "snt2_index = bert_tokenize(snt2)[0]\n",
    "snt2_token = bert_tokenize(snt2)[1]\n",
    "snt2_segment = bert_tokenize(snt2)[2]\n",
    "\n",
    "snt3_index = bert_tokenize(snt3)[0]\n",
    "snt3_token = bert_tokenize(snt3)[1]\n",
    "snt3_segment = bert_tokenize(snt3)[2]\n",
    "\n",
    "if snt1_index[snt1_token.index('plant')] == snt3_index[snt3_token.index('plant')]:\n",
    "    print(\"The word plant has the same token index in sentences 1 and 3.\")\n",
    "else:\n",
    "    print(\"The word plant has not the same token index in sentences 1 and 3.\")"
   ]
  },
  {
   "cell_type": "markdown",
   "metadata": {},
   "source": [
    "## Inference\n",
    "\n",
    "To calculate embeddings, we need to make a prediction using the BERT model on a complete sentence. The *predict_hidden* function converts the token and segment index lists into a pytorch tensor and applies the model. \n",
    "\n",
    "The model used is a 12-layer model. We will use the last hidden layer of the model as an embedding to represent the words. Other solutions are possible, such as concatenation or averaging of several layers.\n",
    "\n",
    "\n",
    "#### Question\n",
    ">* Apply the model to each of the 3 sentences and store the resulting embeddings (tensors).\n",
    ">* Display the dimension of the resulting tensors. What is the dimension of the embedding vector for each word?\n",
    "\n",
    "<span style=\"color: darkred;\">For sentences, embeddings reflect the lenght of the original sentence (number of words +2, corresponding to the [CLS] and [SEP] tokens.</span>\n",
    "\n",
    "<span style=\"color: darkred;\">For words, embeddings are all 768-dimensional, which is the size of BERT's hidden layers.</span>"
   ]
  },
  {
   "cell_type": "code",
   "execution_count": 97,
   "metadata": {},
   "outputs": [
    {
     "name": "stdout",
     "output_type": "stream",
     "text": [
      "Dimension of embeddings for sentence 1 is 12\n",
      "Dimension of embedding for sentence 2 is 10\n",
      "Dimension of embedding for sentence 3 is 12\n",
      "Dimension of word embeddings is 768\n"
     ]
    }
   ],
   "source": [
    "def predict_hidden(indexed_snt, segments_ids):\n",
    "    \"\"\"Apply the BERT model to the input token indices and segment indices\n",
    "        and return the last hidden layer\n",
    "    \"\"\"\n",
    "    with torch.no_grad():\n",
    "        # Convert inputs to PyTorch tensors\n",
    "        tokens_tensor = torch.tensor([indexed_snt])\n",
    "        segments_tensors = torch.tensor([segments_ids])\n",
    "        outputs = model(tokens_tensor, segments_tensors)\n",
    "        hidden_states = outputs[2]\n",
    "        one_hidden_layer = hidden_states[12][0]\n",
    "        \n",
    "    return one_hidden_layer\n",
    "\n",
    "# YOUR CODE HERE\n",
    "snt1_embedd = predict_hidden(snt1_index, snt1_segment)\n",
    "snt2_embedd = predict_hidden(snt2_index, snt2_segment)\n",
    "snt3_embedd = predict_hidden(snt3_index, snt3_segment)\n",
    "\n",
    "print(f\"Dimension of embedding for sentence 1 is {len(snt1_embedd)}\")\n",
    "print(f\"Dimension of embedding for sentence 2 is {len(snt2_embedd)}\")\n",
    "print(f\"Dimension of embedding for sentence 3 is {len(snt3_embedd)}\")\n",
    "\n",
    "print(f\"Dimension of word embeddings is {len(snt1_embedd[0])}\")"
   ]
  },
  {
   "cell_type": "markdown",
   "metadata": {},
   "source": [
    "The hidden layer returned by the *predict_hidden* function is a tensor containing a context vector representing each token in the input sentence. We can use this vector to represent the meaning of this word as a function of its context. We're going to compare the representation of the polysemous word *plant* as a function of its context.\n",
    "\n",
    "#### Question\n",
    "Using the [cosine distance](https://docs.scipy.org/doc/scipy/reference/generated/scipy.spatial.distance.cosine.html), calculate the following distances:\n",
    "> * distance between *plant* in sentence 1 (plant-factory) and *plant* in sentence 3 (plant-vegetal)\n",
    "> * distance between *plant* in sentence 1 (plant-factory) and *factory* in sentence 2 (plant-vegetal) \n",
    "> * distance between *plant* in sentence 1 (plant-factory) and *production* in sentence 1\n",
    "> * distance between *plant* in sentence 3 (plant-vegetal) and *production* in sentence 1\n",
    "\n",
    "How can we interpret these distances?"
   ]
  },
  {
   "cell_type": "code",
   "execution_count": 105,
   "metadata": {},
   "outputs": [
    {
     "name": "stdout",
     "output_type": "stream",
     "text": [
      "Distance between plant-factory and plant-vegetal is 0.49866268289601545.\n",
      "Distance between plant-factory and factory is 0.3122568902677052.\n",
      "Distance between plant-factory and production is 0.24017342306127099.\n",
      "Distance between plant-vegetal and production is 0.6200191359640481.\n"
     ]
    }
   ],
   "source": [
    "from scipy.spatial.distance import cosine\n",
    "\n",
    "# YOUR CODE HERE\n",
    "dist1 = cosine(snt1_embedd[snt1_token.index('plant')], snt3_embedd[snt3_token.index('plant')])\n",
    "print(f\"Distance between plant-factory and plant-vegetal is {dist1}.\")\n",
    "dist2 = cosine(snt1_embedd[snt1_token.index('plant')], snt2_embedd[snt2_token.index('factory')])\n",
    "print(f\"Distance between plant-factory and factory is {dist2}.\")\n",
    "dist3 = cosine(snt1_embedd[snt1_token.index('plant')], snt1_embedd[snt1_token.index('production')])\n",
    "print(f\"Distance between plant-factory and production is {dist3}.\")\n",
    "dist4 = cosine(snt3_embedd[snt3_token.index('plant')], snt1_embedd[snt1_token.index('production')])\n",
    "print(f\"Distance between plant-vegetal and production is {dist4}.\")"
   ]
  },
  {
   "cell_type": "markdown",
   "metadata": {},
   "source": [
    "<span style=\"color: darkred;\">When used to denote a factory, the word plant is close to production and factory in the semantic space, but far away from itself when used to denote a vegetal. This illustrates the ability of embeddings to capture different meaning for words that are nominally the same.</span>"
   ]
  },
  {
   "cell_type": "code",
   "execution_count": null,
   "metadata": {},
   "outputs": [],
   "source": []
  }
 ],
 "metadata": {
  "kernelspec": {
   "display_name": "Python 3 (ipykernel)",
   "language": "python",
   "name": "python3"
  },
  "language_info": {
   "codemirror_mode": {
    "name": "ipython",
    "version": 3
   },
   "file_extension": ".py",
   "mimetype": "text/x-python",
   "name": "python",
   "nbconvert_exporter": "python",
   "pygments_lexer": "ipython3",
   "version": "3.12.7"
  }
 },
 "nbformat": 4,
 "nbformat_minor": 4
}
