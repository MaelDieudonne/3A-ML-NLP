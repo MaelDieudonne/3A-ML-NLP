{
 "cells": [
  {
   "cell_type": "markdown",
   "id": "e65f4fe1-0b43-4a3b-8b09-85e5eaa64fb4",
   "metadata": {},
   "source": [
    "https://ai.stanford.edu/~amaas/data/sentiment/\n",
    "\n",
    "https://ai.stanford.edu/~amaas/data/sentiment/aclImdb_v1.tar.gz"
   ]
  },
  {
   "cell_type": "code",
   "execution_count": 1,
   "id": "68687f9f-dfc5-45ba-9bbc-9758e4b6e94f",
   "metadata": {},
   "outputs": [],
   "source": [
    "import emoji\n",
    "import glob\n",
    "import numpy as np\n",
    "import os\n",
    "import pandas as pd\n",
    "import re\n",
    "import requests\n",
    "import tarfile\n",
    "\n",
    "from collections import Counter\n",
    "from tqdm import tqdm\n",
    "\n",
    "import matplotlib.pyplot as plt"
   ]
  },
  {
   "cell_type": "markdown",
   "id": "f7a92000-7b82-44c0-8376-1ce30b67c9ba",
   "metadata": {},
   "source": [
    "# Load data"
   ]
  },
  {
   "cell_type": "code",
   "execution_count": null,
   "id": "94cfa4b8-30c2-47ad-bf3e-9901d08e66bb",
   "metadata": {},
   "outputs": [],
   "source": [
    "def get_data():\n",
    "    url = \"https://ai.stanford.edu/~amaas/data/sentiment/aclImdb_v1.tar.gz\"\n",
    "    filename = \"aclImdb_v1.tar.gz\"\n",
    "    \n",
    "    print(\"Downloading file...\")\n",
    "    response = requests.get(url, stream=True)\n",
    "    total_size = int(response.headers.get('content-length', 0))\n",
    "    \n",
    "    with open(filename, 'wb') as file, tqdm(\n",
    "            desc=filename,\n",
    "            total=total_size,\n",
    "            unit='B',\n",
    "            unit_scale=True,\n",
    "            unit_divisor=1024,\n",
    "        ) as bar:\n",
    "        for data in response.iter_content(chunk_size=1024):\n",
    "            size = file.write(data)\n",
    "            bar.update(size)\n",
    "    \n",
    "    print(\"Extracting file...\")\n",
    "    if os.path.exists(\"aclImdb\"):\n",
    "        shutil.rmtree(\"aclImdb\")\n",
    "    with tarfile.open(filename) as tar:\n",
    "        tar.extractall(filter='data')\n",
    "\n",
    "    print(\"Renaming folder...\")\n",
    "    if os.path.exists(\"data/raw\"): \n",
    "        shutil.rmtree(\"data/raw\")\n",
    "    if not os.path.exists(\"data\"):\n",
    "        os.makedirs(\"data\")\n",
    "    os.rename(\"aclImdb\", \"data/raw\")\n",
    "    \n",
    "    print(\"Cleaning up...\")\n",
    "    os.remove(filename)\n",
    "    \n",
    "    print(\"Done! The dataset is now available in the 'data/raw' folder.\")\n",
    "\n",
    "if __name__ == \"__main__\":\n",
    "    get_data()"
   ]
  },
  {
   "cell_type": "code",
   "execution_count": null,
   "id": "c23fb1fe-5d18-4dd7-860a-fb3026a084c8",
   "metadata": {},
   "outputs": [],
   "source": [
    "def process_data(base_dir):\n",
    "    train_data = []\n",
    "    test_data = []\n",
    "    unsup_data = []\n",
    "    \n",
    "    # Process both train and test splits\n",
    "    for split in ['train', 'test']:\n",
    "        split_path = os.path.join(base_dir, split)\n",
    "            \n",
    "        # Process positive and negative reviews\n",
    "        for sentiment in ['pos', 'neg']:\n",
    "            sentiment_path = os.path.join(split_path, sentiment)\n",
    "            sentiment_label = 'positive' if sentiment == 'pos' else 'negative'\n",
    "            \n",
    "            # Skip if directory doesn't exist\n",
    "            if not os.path.exists(sentiment_path):\n",
    "                print(f\"Warning: {sentiment_path} does not exist\")\n",
    "                continue\n",
    "                \n",
    "            # Find all text files\n",
    "            files = glob.glob(os.path.join(sentiment_path, '*.txt'))\n",
    "            \n",
    "            for file_path in files:\n",
    "                # Extract id and rating from filename\n",
    "                filename = os.path.basename(file_path)\n",
    "                match = re.match(r'(\\d+)_(\\d+)\\.txt', filename)\n",
    "                \n",
    "                if match:\n",
    "                    review_id, rating = match.groups()\n",
    "                    \n",
    "                    # Read the review text\n",
    "                    with open(file_path, 'r', encoding='utf-8', errors='replace') as f:\n",
    "                        text = f.read().strip()\n",
    "                    \n",
    "                    # Add to appropriate list based on split\n",
    "                    entry = {\n",
    "                        'id': int(review_id),\n",
    "                        'text': text,\n",
    "                        'sentiment': sentiment_label,\n",
    "                        'rating': int(rating)\n",
    "                    }\n",
    "                    \n",
    "                    if split == 'train':\n",
    "                        train_data.append(entry)\n",
    "                    else:\n",
    "                        test_data.append(entry)\n",
    "        \n",
    "        # Process unsupervised data in train split)\n",
    "        if split == 'train':\n",
    "            unsup_path = os.path.join(split_path, 'unsup')\n",
    "            files = glob.glob(os.path.join(unsup_path, '*.txt'))\n",
    "                \n",
    "            for file_path in files:\n",
    "                # Extract id from filename\n",
    "                filename = os.path.basename(file_path)\n",
    "                match = re.match(r'(\\d+)_0\\.txt', filename)\n",
    "                    \n",
    "                if match:\n",
    "                    review_id = match.groups()[0]\n",
    "                        \n",
    "                    # Read the review text\n",
    "                    with open(file_path, 'r', encoding='utf-8', errors='replace') as f:\n",
    "                        text = f.read().strip()\n",
    "                        \n",
    "                    # Add to unsupervised data list\n",
    "                    unsup_data.append({\n",
    "                        'id': int(review_id),\n",
    "                        'text': text\n",
    "                    })\n",
    "    \n",
    "    # Convert lists to DataFrames\n",
    "    train = pd.DataFrame(train_data)\n",
    "    test = pd.DataFrame(test_data)\n",
    "    unsup = pd.DataFrame(unsup_data)\n",
    "    \n",
    "    return train, test, unsup\n",
    "\n",
    "train, test, unsup = process_data(\"data/raw/\")\n",
    "\n",
    "os.makedirs(\"data/processed/\", exist_ok=True)\n",
    "train.to_csv(\"data/processed/train.csv\", index=False)\n",
    "test.to_csv(\"data/processed/test.csv\", index=False)\n",
    "unsup.to_csv(\"data/processed/unsup.csv\", index=False)"
   ]
  },
  {
   "cell_type": "code",
   "execution_count": null,
   "id": "54a06aa9-f230-4d4f-b496-392ce08f3bf0",
   "metadata": {},
   "outputs": [],
   "source": [
    "# Check that data is correctly loaded\n",
    "print(f\"Train data shape: {train.shape}\")\n",
    "print(f\"Test data shape: {test.shape}\")\n",
    "print(f\"Unsupervised data shape: {unsup.shape}\")\n",
    "\n",
    "print(\"\\nTrain data:\")\n",
    "print(train.head(2))\n",
    "print(\"\\n\")\n",
    "print(\"\\nTest data sample:\")\n",
    "print(test.head(2))\n",
    "print(\"\\n\")\n",
    "print(\"\\nUnsupervised data sample:\")\n",
    "print(unsup.head(2))"
   ]
  },
  {
   "cell_type": "markdown",
   "id": "83ba2915-3819-4cdd-8505-308fa7d91f75",
   "metadata": {},
   "source": [
    "# Clean data"
   ]
  },
  {
   "cell_type": "code",
   "execution_count": 2,
   "id": "39025866-c7e2-42e0-a78e-026e977f62cf",
   "metadata": {},
   "outputs": [],
   "source": [
    "train = pd.read_csv(\"data/processed/train.csv\")\n",
    "test = pd.read_csv(\"data/processed/test.csv\")"
   ]
  },
  {
   "cell_type": "code",
   "execution_count": 10,
   "id": "172b8a00-2824-44a8-ae15-5e12d3ec94b3",
   "metadata": {},
   "outputs": [
    {
     "data": {
      "text/plain": [
       "array([    0,     1,     2, ..., 12497, 12498, 12499])"
      ]
     },
     "execution_count": 10,
     "metadata": {},
     "output_type": "execute_result"
    }
   ],
   "source": [
    "np.sort(train['id'].unique())"
   ]
  },
  {
   "cell_type": "code",
   "execution_count": 11,
   "id": "a4407579-731b-48ba-abfe-6237886d8980",
   "metadata": {},
   "outputs": [
    {
     "data": {
      "text/plain": [
       "array([    0,     1,     2, ..., 12497, 12498, 12499])"
      ]
     },
     "execution_count": 11,
     "metadata": {},
     "output_type": "execute_result"
    }
   ],
   "source": [
    "np.sort(test['id'].unique())"
   ]
  },
  {
   "cell_type": "code",
   "execution_count": 7,
   "id": "c710a536-d387-4818-a8ec-374faadcc19e",
   "metadata": {},
   "outputs": [
    {
     "name": "stdout",
     "output_type": "stream",
     "text": [
      "Number of unique id values that appear in both train and test: 12500\n"
     ]
    }
   ],
   "source": [
    "common_ids = set(train['id'].unique()) & set(test['id'].unique())\n",
    "count_common_ids = len(common_ids)\n",
    "\n",
    "print(f\"Number of unique id values that appear in both train and test: {count_common_ids}\")"
   ]
  },
  {
   "cell_type": "markdown",
   "id": "1c07cc36-46c7-4149-96c9-0c04b99556a6",
   "metadata": {},
   "source": [
    "## HTML markups"
   ]
  },
  {
   "cell_type": "code",
   "execution_count": 3,
   "id": "58e82e06-9c50-4b27-a0de-a6e3383b64d0",
   "metadata": {},
   "outputs": [
    {
     "name": "stdout",
     "output_type": "stream",
     "text": [
      "Reviews containing HTML markup in train: 14667 out of 25000 (58.67%)\n",
      "Reviews containing HTML markup in test: 14535 out of 25000 (58.14%)\n"
     ]
    }
   ],
   "source": [
    "def contains_html_tags(text):\n",
    "    pattern = re.compile(r'<[^>]+>')\n",
    "    return bool(pattern.search(str(text)))\n",
    "\n",
    "train['has_html'] = train['text'].apply(contains_html_tags)\n",
    "test['has_html'] = test['text'].apply(contains_html_tags)\n",
    "\n",
    "train_html_count = train['has_html'].sum()\n",
    "train_total_count = len(train)\n",
    "train_percentage = (train_html_count / train_total_count) * 100\n",
    "\n",
    "test_html_count = test['has_html'].sum()\n",
    "test_total_count = len(test)\n",
    "test_percentage = (test_html_count / test_total_count) * 100\n",
    "\n",
    "print(f\"Reviews containing HTML markup in train: {train_html_count} out of {train_total_count} ({train_percentage:.2f}%)\")\n",
    "print(f\"Reviews containing HTML markup in test: {test_html_count} out of {train_total_count} ({test_percentage:.2f}%)\")"
   ]
  },
  {
   "cell_type": "code",
   "execution_count": 4,
   "id": "4f6e6f1c-6050-48ff-86cf-2aff47f6610b",
   "metadata": {},
   "outputs": [
    {
     "name": "stdout",
     "output_type": "stream",
     "text": [
      "\n",
      "Most common HTML tags:\n",
      "br (201948)\n",
      "i (8)\n",
      "grin (2)\n",
      "SPOILER (1)\n",
      "sigh (1)\n",
      "em (1)\n",
      "sp (1)\n",
      "http (1)\n",
      "hr (1)\n",
      "p (1)\n"
     ]
    }
   ],
   "source": [
    "def extract_html_tags(text):\n",
    "    pattern = re.compile(r'<([a-zA-Z][a-zA-Z0-9]*)')\n",
    "    matches = pattern.findall(str(text))\n",
    "    return matches\n",
    "\n",
    "if train_html_count + test_html_count > 0:\n",
    "    all_tags = []\n",
    "    for text in train[train['has_html']]['text']:\n",
    "        tags = extract_html_tags(text)\n",
    "        all_tags.extend(tags)\n",
    "\n",
    "    for text in test[test['has_html']]['text']:\n",
    "        tags = extract_html_tags(text)\n",
    "        all_tags.extend(tags)\n",
    "    \n",
    "    tag_counts = Counter(all_tags)\n",
    "    \n",
    "    print(\"\\nMost common HTML tags:\")\n",
    "    for tag, count in tag_counts.most_common(10):\n",
    "        print(f\"{tag} ({count})\")"
   ]
  },
  {
   "cell_type": "code",
   "execution_count": 5,
   "id": "51b5e15a-adc3-447d-9652-2b861494f09f",
   "metadata": {},
   "outputs": [],
   "source": [
    "def remove_html_markups(text):\n",
    "    # TReplace <SPOILER> tags with SPOILER\n",
    "    text = re.sub(r'<SPOILER>', 'SPOILER', str(text))\n",
    "    text = re.sub(r'</SPOILER>', 'SPOILER', str(text))\n",
    "    \n",
    "    # Remove all other HTML tags\n",
    "    text = re.sub(r'<[^>]+>', '', text)\n",
    "    \n",
    "    return text\n",
    "\n",
    "train['text'] = train['text'].apply(remove_html_markups)\n",
    "test['text'] = test['text'].apply(remove_html_markups)\n",
    "\n",
    "train = train.drop(columns=['has_html'])\n",
    "test = test.drop(columns=['has_html'])"
   ]
  },
  {
   "cell_type": "markdown",
   "id": "cfa913a6-bdcf-4445-b777-8299fc8b867a",
   "metadata": {},
   "source": [
    "## Emojis"
   ]
  },
  {
   "cell_type": "code",
   "execution_count": 6,
   "id": "f74f3c89-88f7-4a19-9819-66b3dd631881",
   "metadata": {},
   "outputs": [
    {
     "name": "stdout",
     "output_type": "stream",
     "text": [
      "Train set: 4 out of 25000 samples contain emojis (0.02%)\n",
      "Test set: 1 out of 25000 samples contain emojis (0.00%)\n"
     ]
    }
   ],
   "source": [
    "# Count samples with emojis\n",
    "train['has_emoji'] = train['text'].apply(lambda x: emoji.emoji_count(x) > 0)\n",
    "train_emoji_count = train['has_emoji'].sum()\n",
    "train_total = len(train)\n",
    "train_percentage = (train_emoji_count / train_total) * 100\n",
    "\n",
    "test['has_emoji'] = test['text'].apply(lambda x: emoji.emoji_count(x) > 0)\n",
    "test_emoji_count = test['has_emoji'].sum()\n",
    "test_total = len(test)\n",
    "test_percentage = (test_emoji_count / test_total) * 100\n",
    "\n",
    "print(f\"Train set: {train_emoji_count} out of {train_total} samples contain emojis ({train_percentage:.2f}%)\")\n",
    "print(f\"Test set: {test_emoji_count} out of {test_total} samples contain emojis ({test_percentage:.2f}%)\")"
   ]
  },
  {
   "cell_type": "code",
   "execution_count": 7,
   "id": "44cd23a4-38f5-4d63-b5b6-3031c6387e5c",
   "metadata": {},
   "outputs": [
    {
     "name": "stdout",
     "output_type": "stream",
     "text": [
      "\n",
      "Most common emojis in train set:\n",
      "® (4)\n",
      "\n",
      "Most common emojis in test set:\n",
      "© (1)\n"
     ]
    }
   ],
   "source": [
    "# Get most common emojis\n",
    "def extract_emojis(text):\n",
    "    return ''.join(c for c in text if c in emoji.EMOJI_DATA)\n",
    "\n",
    "all_train_emojis = ''.join(train['text'].apply(extract_emojis))\n",
    "train_emoji_counts = Counter(all_train_emojis)\n",
    "\n",
    "all_test_emojis = ''.join(test['text'].apply(extract_emojis))\n",
    "test_emoji_counts = Counter(all_test_emojis)\n",
    "\n",
    "print(\"\\nMost common emojis in train set:\")\n",
    "for em, count in train_emoji_counts.most_common(10):\n",
    "    print(f\"{em} ({count})\")\n",
    "\n",
    "print(\"\\nMost common emojis in test set:\")\n",
    "for em, count in test_emoji_counts.most_common(10):\n",
    "    print(f\"{em} ({count})\")"
   ]
  },
  {
   "cell_type": "code",
   "execution_count": 8,
   "id": "222012d0-5fc1-436b-8a50-c74158b2430c",
   "metadata": {},
   "outputs": [],
   "source": [
    "def remove_emojis(text):\n",
    "    text = re.sub(r'[®©]', '', str(text))\n",
    "    \n",
    "    return text\n",
    "\n",
    "train['text'] = train['text'].apply(remove_emojis)\n",
    "test['text'] = test['text'].apply(remove_emojis)\n",
    "\n",
    "train = train.drop(columns=['has_emoji'])\n",
    "test = test.drop(columns=['has_emoji'])"
   ]
  },
  {
   "cell_type": "markdown",
   "id": "1c609b8e-05da-405d-a09b-502e93117267",
   "metadata": {},
   "source": [
    "## Special characters"
   ]
  },
  {
   "cell_type": "code",
   "execution_count": 12,
   "id": "e1127b52-dd2b-41ef-9f5c-8da8f7cb03e7",
   "metadata": {},
   "outputs": [
    {
     "name": "stdout",
     "output_type": "stream",
     "text": [
      "Texts containing special characters: 2342 out of 25000 (9.37%)\n",
      "\n",
      "Examples of text with special characters:\n",
      "ID: 3574\n",
      "Text preview: It's hard to say sometimes why exactly a film is so effective. From the moment I first came across \"...\n",
      "Special characters found: í\n",
      "--------------------------------------------------------------------------------\n",
      "ID: 5245\n",
      "Text preview: I thought this movie was LOL funny. It's a fun, not to be taken seriously, movie about one man's twi...\n",
      "Special characters found: é\n",
      "--------------------------------------------------------------------------------\n",
      "ID: 12091\n",
      "Text preview: `Castle of Blood' (aka `Castle of Terror') is a well-crafted, surprisingly spooky entry from Italian...\n",
      "Special characters found: è\n",
      "--------------------------------------------------------------------------------\n",
      "ID: 2389\n",
      "Text preview: I work with children from 0  6 years old and they all love the Doodlebops. The Doodlebops are energ...\n",
      "Special characters found: \n",
      "--------------------------------------------------------------------------------\n",
      "ID: 6284\n",
      "Text preview: To make it short and not to spoil everything this film is about Kip (Giovanni Ribsi), a car thief, w...\n",
      "Special characters found: ",
      ", , \n",
      "--------------------------------------------------------------------------------\n"
     ]
    }
   ],
   "source": [
    "def has_special_chars(text):\n",
    "    # Define a pattern that matches special characters/accented letters\n",
    "    # but excludes common punctuation and standard ASCII letters/numbers\n",
    "    pattern = re.compile(r'[^\\x00-\\x7F]+')  # Matches any non-ASCII character\n",
    "    \n",
    "    # Alternative approach with more specific exclusions:\n",
    "    # pattern = re.compile(r'[^\\w\\s!@#$%^&*()_+\\-=\\[\\]{};:\\'\",.<>/?\\\\|]')\n",
    "    \n",
    "    return bool(pattern.search(str(text)))\n",
    "\n",
    "# Apply to your dataframe\n",
    "train['has_special_chars'] = train['text'].apply(has_special_chars)\n",
    "\n",
    "# Count samples with special characters\n",
    "special_chars_count = train['has_special_chars'].sum()\n",
    "total_count = len(train)\n",
    "percentage = (special_chars_count / total_count) * 100\n",
    "\n",
    "print(f\"Texts containing special characters: {special_chars_count} out of {total_count} ({percentage:.2f}%)\")\n",
    "\n",
    "# Print some examples\n",
    "if special_chars_count > 0:\n",
    "    print(\"\\nExamples of text with special characters:\")\n",
    "    for idx, row in train[train['has_special_chars']].head(5).iterrows():\n",
    "        # Extract the special characters\n",
    "        special_chars = re.findall(r'[^\\x00-\\x7F]', str(row['text']))\n",
    "        unique_special_chars = set(special_chars)\n",
    "        \n",
    "        print(f\"ID: {row['id']}\")\n",
    "        print(f\"Text preview: {row['text'][:100]}...\")\n",
    "        print(f\"Special characters found: {', '.join(unique_special_chars)}\")\n",
    "        print(\"-\" * 80)"
   ]
  },
  {
   "cell_type": "markdown",
   "id": "b21d527e-63ed-4b1e-b77f-bda67b0a5676",
   "metadata": {},
   "source": [
    "# Description"
   ]
  },
  {
   "cell_type": "markdown",
   "id": "9042c620-f965-4fdb-8260-7e73bca8a8c0",
   "metadata": {},
   "source": [
    "## Ratings"
   ]
  },
  {
   "cell_type": "code",
   "execution_count": 6,
   "id": "1378dfcc-497d-40a9-82f3-ce160682bde6",
   "metadata": {},
   "outputs": [
    {
     "data": {
      "image/png": "[encoded data removed]",
      "text/plain": [
       "<Figure size 1000x600 with 1 Axes>"
      ]
     },
     "metadata": {},
     "output_type": "display_data"
    }
   ],
   "source": [
    "plt.figure(figsize=(10, 6))\n",
    "\n",
    "ratings_range = range(1, 11)\n",
    "x = np.array(ratings_range)\n",
    "width = 0.35\n",
    "\n",
    "train_counts = [train['rating'].value_counts().get(i, 0) for i in ratings_range]\n",
    "test_counts = [test['rating'].value_counts().get(i, 0) for i in ratings_range]\n",
    "\n",
    "plt.bar(x - width/2, train_counts, width, color='cornflowerblue', alpha=0.7, label='Train')\n",
    "plt.bar(x + width/2, test_counts, width, color='orange', alpha=0.7, label='Test')\n",
    "\n",
    "plt.xlabel('Ratings')\n",
    "plt.ylabel('Counts')\n",
    "plt.title('Distribution of Ratings in Train and Test Sets')\n",
    "plt.xticks(ratings_range)\n",
    "plt.legend()\n",
    "\n",
    "plt.grid(axis='y', linestyle='--', alpha=0.7)\n",
    "\n",
    "plt.tight_layout()\n",
    "plt.show()"
   ]
  },
  {
   "cell_type": "markdown",
   "id": "1221107e-43ba-45dc-a897-d5c5256e998e",
   "metadata": {},
   "source": [
    "## Length"
   ]
  },
  {
   "cell_type": "code",
   "execution_count": 7,
   "id": "67523ecd-7171-44bb-951a-4bc64258c07d",
   "metadata": {},
   "outputs": [
    {
     "data": {
      "text/html": [
       "<style type=\"text/css\">\n",
       "</style>\n",
       "<table id=\"T_87243\">\n",
       "  <caption>Text Length Statistics</caption>\n",
       "  <thead>\n",
       "    <tr>\n",
       "      <th class=\"blank level0\" >&nbsp;</th>\n",
       "      <th id=\"T_87243_level0_col0\" class=\"col_heading level0 col0\" >Train</th>\n",
       "      <th id=\"T_87243_level0_col1\" class=\"col_heading level0 col1\" >Test</th>\n",
       "    </tr>\n",
       "  </thead>\n",
       "  <tbody>\n",
       "    <tr>\n",
       "      <th id=\"T_87243_level0_row0\" class=\"row_heading level0 row0\" >Min Characters</th>\n",
       "      <td id=\"T_87243_row0_col0\" class=\"data row0 col0\" >52</td>\n",
       "      <td id=\"T_87243_row0_col1\" class=\"data row0 col1\" >32</td>\n",
       "    </tr>\n",
       "    <tr>\n",
       "      <th id=\"T_87243_level0_row1\" class=\"row_heading level0 row1\" >Max Characters</th>\n",
       "      <td id=\"T_87243_row1_col0\" class=\"data row1 col0\" >13704</td>\n",
       "      <td id=\"T_87243_row1_col1\" class=\"data row1 col1\" >12988</td>\n",
       "    </tr>\n",
       "    <tr>\n",
       "      <th id=\"T_87243_level0_row2\" class=\"row_heading level0 row2\" >Avg Characters</th>\n",
       "      <td id=\"T_87243_row2_col0\" class=\"data row2 col0\" >1325</td>\n",
       "      <td id=\"T_87243_row2_col1\" class=\"data row2 col1\" >1294</td>\n",
       "    </tr>\n",
       "    <tr>\n",
       "      <th id=\"T_87243_level0_row3\" class=\"row_heading level0 row3\" >Min Words</th>\n",
       "      <td id=\"T_87243_row3_col0\" class=\"data row3 col0\" >10</td>\n",
       "      <td id=\"T_87243_row3_col1\" class=\"data row3 col1\" >4</td>\n",
       "    </tr>\n",
       "    <tr>\n",
       "      <th id=\"T_87243_level0_row4\" class=\"row_heading level0 row4\" >Max Words</th>\n",
       "      <td id=\"T_87243_row4_col0\" class=\"data row4 col0\" >2470</td>\n",
       "      <td id=\"T_87243_row4_col1\" class=\"data row4 col1\" >2278</td>\n",
       "    </tr>\n",
       "    <tr>\n",
       "      <th id=\"T_87243_level0_row5\" class=\"row_heading level0 row5\" >Avg Words</th>\n",
       "      <td id=\"T_87243_row5_col0\" class=\"data row5 col0\" >234</td>\n",
       "      <td id=\"T_87243_row5_col1\" class=\"data row5 col1\" >229</td>\n",
       "    </tr>\n",
       "  </tbody>\n",
       "</table>\n"
      ],
      "text/plain": [
       "<pandas.io.formats.style.Styler at 0x1353a00b0>"
      ]
     },
     "execution_count": 7,
     "metadata": {},
     "output_type": "execute_result"
    }
   ],
   "source": [
    "def get_text_stats(df):\n",
    "    # Character length\n",
    "    df['char_length'] = df['text'].apply(len)\n",
    "    char_min = df['char_length'].min()\n",
    "    char_max = df['char_length'].max()\n",
    "    char_avg = df['char_length'].mean()\n",
    "    \n",
    "    # Word length\n",
    "    df['word_count'] = df['text'].apply(lambda x: len(x.split()))\n",
    "    word_min = df['word_count'].min()\n",
    "    word_max = df['word_count'].max()\n",
    "    word_avg = df['word_count'].mean()\n",
    "    \n",
    "    return {\n",
    "        'char_min': char_min,\n",
    "        'char_max': char_max,\n",
    "        'char_avg': round(char_avg, 0),\n",
    "        'word_min': word_min,\n",
    "        'word_max': word_max,\n",
    "        'word_avg': round(word_avg, 0)\n",
    "    }\n",
    "\n",
    "train_stats = get_text_stats(train)\n",
    "test_stats = get_text_stats(test)\n",
    "\n",
    "# Create a comparison dataframe\n",
    "comparison = pd.DataFrame({\n",
    "    'Train': [train_stats['char_min'],\n",
    "              train_stats['char_max'],\n",
    "              train_stats['char_avg'],\n",
    "              train_stats['word_min'],\n",
    "              train_stats['word_max'],\n",
    "              train_stats['word_avg']],\n",
    "    'Test': [test_stats['char_min'],\n",
    "             test_stats['char_max'],\n",
    "             test_stats['char_avg'],\n",
    "             test_stats['word_min'],\n",
    "             test_stats['word_max'],\n",
    "             test_stats['word_avg']]}, \n",
    "    index=['Min Characters',\n",
    "          'Max Characters',\n",
    "          'Avg Characters',\n",
    "          'Min Words',\n",
    "          'Max Words',\n",
    "          'Avg Words'])\n",
    "\n",
    "comparison.style.set_caption('Text Length Statistics').format(\"{:.0f}\")"
   ]
  },
  {
   "cell_type": "code",
   "execution_count": 8,
   "id": "b90d0149-6583-4445-9be5-706c3f208306",
   "metadata": {},
   "outputs": [
    {
     "data": {
      "text/html": [
       "<div>\n",
       "<style scoped>\n",
       "    .dataframe tbody tr th:only-of-type {\n",
       "        vertical-align: middle;\n",
       "    }\n",
       "\n",
       "    .dataframe tbody tr th {\n",
       "        vertical-align: top;\n",
       "    }\n",
       "\n",
       "    .dataframe thead th {\n",
       "        text-align: right;\n",
       "    }\n",
       "</style>\n",
       "<table border=\"1\" class=\"dataframe\">\n",
       "  <thead>\n",
       "    <tr style=\"text-align: right;\">\n",
       "      <th></th>\n",
       "      <th>id</th>\n",
       "      <th>text</th>\n",
       "      <th>sentiment</th>\n",
       "      <th>rating</th>\n",
       "      <th>char_length</th>\n",
       "      <th>word_count</th>\n",
       "    </tr>\n",
       "  </thead>\n",
       "  <tbody>\n",
       "    <tr>\n",
       "      <th>0</th>\n",
       "      <td>4715</td>\n",
       "      <td>For a movie that gets no respect there sure ar...</td>\n",
       "      <td>positive</td>\n",
       "      <td>9</td>\n",
       "      <td>284</td>\n",
       "      <td>52</td>\n",
       "    </tr>\n",
       "    <tr>\n",
       "      <th>1</th>\n",
       "      <td>12390</td>\n",
       "      <td>Bizarre horror movie filled with famous faces ...</td>\n",
       "      <td>positive</td>\n",
       "      <td>8</td>\n",
       "      <td>1033</td>\n",
       "      <td>166</td>\n",
       "    </tr>\n",
       "    <tr>\n",
       "      <th>2</th>\n",
       "      <td>8329</td>\n",
       "      <td>A solid, if unremarkable film. Matthau, as Ein...</td>\n",
       "      <td>positive</td>\n",
       "      <td>7</td>\n",
       "      <td>318</td>\n",
       "      <td>55</td>\n",
       "    </tr>\n",
       "    <tr>\n",
       "      <th>3</th>\n",
       "      <td>9063</td>\n",
       "      <td>It's a strange feeling to sit alone in a theat...</td>\n",
       "      <td>positive</td>\n",
       "      <td>8</td>\n",
       "      <td>2596</td>\n",
       "      <td>442</td>\n",
       "    </tr>\n",
       "    <tr>\n",
       "      <th>4</th>\n",
       "      <td>3092</td>\n",
       "      <td>You probably all already know this by now, but...</td>\n",
       "      <td>positive</td>\n",
       "      <td>10</td>\n",
       "      <td>783</td>\n",
       "      <td>144</td>\n",
       "    </tr>\n",
       "    <tr>\n",
       "      <th>...</th>\n",
       "      <td>...</td>\n",
       "      <td>...</td>\n",
       "      <td>...</td>\n",
       "      <td>...</td>\n",
       "      <td>...</td>\n",
       "      <td>...</td>\n",
       "    </tr>\n",
       "    <tr>\n",
       "      <th>24995</th>\n",
       "      <td>3307</td>\n",
       "      <td>My comments may be a bit of a spoiler, for wha...</td>\n",
       "      <td>negative</td>\n",
       "      <td>3</td>\n",
       "      <td>978</td>\n",
       "      <td>168</td>\n",
       "    </tr>\n",
       "    <tr>\n",
       "      <th>24996</th>\n",
       "      <td>2240</td>\n",
       "      <td>The \"saucy\" misadventures of four au pairs who...</td>\n",
       "      <td>negative</td>\n",
       "      <td>4</td>\n",
       "      <td>2473</td>\n",
       "      <td>431</td>\n",
       "    </tr>\n",
       "    <tr>\n",
       "      <th>24997</th>\n",
       "      <td>11556</td>\n",
       "      <td>Oh, those Italians! Assuming that movies about...</td>\n",
       "      <td>negative</td>\n",
       "      <td>1</td>\n",
       "      <td>529</td>\n",
       "      <td>83</td>\n",
       "    </tr>\n",
       "    <tr>\n",
       "      <th>24998</th>\n",
       "      <td>4617</td>\n",
       "      <td>Eight academy nominations? It's beyond belief....</td>\n",
       "      <td>negative</td>\n",
       "      <td>3</td>\n",
       "      <td>2399</td>\n",
       "      <td>421</td>\n",
       "    </tr>\n",
       "    <tr>\n",
       "      <th>24999</th>\n",
       "      <td>9788</td>\n",
       "      <td>Not that I dislike childrens movies, but this ...</td>\n",
       "      <td>negative</td>\n",
       "      <td>3</td>\n",
       "      <td>383</td>\n",
       "      <td>69</td>\n",
       "    </tr>\n",
       "  </tbody>\n",
       "</table>\n",
       "<p>25000 rows × 6 columns</p>\n",
       "</div>"
      ],
      "text/plain": [
       "          id                                               text sentiment  \\\n",
       "0       4715  For a movie that gets no respect there sure ar...  positive   \n",
       "1      12390  Bizarre horror movie filled with famous faces ...  positive   \n",
       "2       8329  A solid, if unremarkable film. Matthau, as Ein...  positive   \n",
       "3       9063  It's a strange feeling to sit alone in a theat...  positive   \n",
       "4       3092  You probably all already know this by now, but...  positive   \n",
       "...      ...                                                ...       ...   \n",
       "24995   3307  My comments may be a bit of a spoiler, for wha...  negative   \n",
       "24996   2240  The \"saucy\" misadventures of four au pairs who...  negative   \n",
       "24997  11556  Oh, those Italians! Assuming that movies about...  negative   \n",
       "24998   4617  Eight academy nominations? It's beyond belief....  negative   \n",
       "24999   9788  Not that I dislike childrens movies, but this ...  negative   \n",
       "\n",
       "       rating  char_length  word_count  \n",
       "0           9          284          52  \n",
       "1           8         1033         166  \n",
       "2           7          318          55  \n",
       "3           8         2596         442  \n",
       "4          10          783         144  \n",
       "...       ...          ...         ...  \n",
       "24995       3          978         168  \n",
       "24996       4         2473         431  \n",
       "24997       1          529          83  \n",
       "24998       3         2399         421  \n",
       "24999       3          383          69  \n",
       "\n",
       "[25000 rows x 6 columns]"
      ]
     },
     "execution_count": 8,
     "metadata": {},
     "output_type": "execute_result"
    }
   ],
   "source": [
    "train"
   ]
  },
  {
   "cell_type": "markdown",
   "id": "eb9a979f-d8e4-4062-8f43-b9b90f6228df",
   "metadata": {},
   "source": [
    "## Correlation"
   ]
  },
  {
   "cell_type": "code",
   "execution_count": 10,
   "id": "31c8b1d0-6ade-42d2-8ca5-7e77d7a09c7c",
   "metadata": {},
   "outputs": [
    {
     "name": "stdout",
     "output_type": "stream",
     "text": [
      "Pearson correlation coefficient: 0.0141\n",
      "P-value: 0.0255\n"
     ]
    }
   ],
   "source": [
    "import scipy.stats as stats\n",
    "\n",
    "correlation, p_value = stats.pearsonr(train['rating'], train['word_count'])\n",
    "\n",
    "print(f\"Pearson correlation coefficient: {correlation:.4f}\")\n",
    "print(f\"P-value: {p_value:.4f}\")"
   ]
  },
  {
   "cell_type": "code",
   "execution_count": 13,
   "id": "6e6b5a54-c631-4223-a6ca-6e78f830e62d",
   "metadata": {},
   "outputs": [
    {
     "name": "stdout",
     "output_type": "stream",
     "text": [
      "\n",
      "Word count statistics by rating:\n",
      "              mean  median  count\n",
      "rating                           \n",
      "1       211.595686   161.0   5100\n",
      "2       226.199212   177.0   2284\n",
      "3       250.685537   189.0   2420\n",
      "4       253.491098   194.0   2696\n",
      "7       260.793670   203.0   2496\n",
      "8       252.252908   190.0   3009\n",
      "9       245.346443   177.0   2263\n",
      "10      209.983728   154.0   4732\n"
     ]
    }
   ],
   "source": [
    "word_count_stats = train.groupby('rating')['word_count'].agg(['mean', 'median', 'count'])\n",
    "print(\"\\nWord count statistics by rating:\")\n",
    "print(word_count_stats)"
   ]
  },
  {
   "cell_type": "code",
   "execution_count": 20,
   "id": "d2839323-7960-4fc7-a539-02bca50fa638",
   "metadata": {},
   "outputs": [
    {
     "data": {
      "image/png": "[encoded data removed]",
      "text/plain": [
       "<Figure size 1200x600 with 1 Axes>"
      ]
     },
     "metadata": {},
     "output_type": "display_data"
    }
   ],
   "source": [
    "plt.figure(figsize=(12, 6))\n",
    "plt.boxplot([train[train['rating'] == i]['word_count'] for i in range(0, 11)], \n",
    "           tick_labels=range(0, 11))\n",
    "plt.xlabel('Rating')\n",
    "plt.ylabel('Word Count')\n",
    "plt.title('Word Count Distribution by Rating')\n",
    "plt.grid(True, alpha=0.3)\n",
    "plt.show()"
   ]
  },
  {
   "cell_type": "code",
   "execution_count": 17,
   "id": "d61ca751-fd52-426a-be94-c932a0b060dd",
   "metadata": {},
   "outputs": [
    {
     "ename": "ValueError",
     "evalue": "Unable to determine Axes to steal space for Colorbar. Either provide the *cax* argument to use as the Axes for the Colorbar, provide the *ax* argument to steal space from it, or add *mappable* to an Axes.",
     "output_type": "error",
     "traceback": [
      "\u001b[0;31m---------------------------------------------------------------------------\u001b[0m",
      "\u001b[0;31mValueError\u001b[0m                                Traceback (most recent call last)",
      "Cell \u001b[0;32mIn[17], line 69\u001b[0m\n\u001b[1;32m     67\u001b[0m sm \u001b[38;5;241m=\u001b[39m ScalarMappable(cmap\u001b[38;5;241m=\u001b[39mcmap, norm\u001b[38;5;241m=\u001b[39mNormalize(vmin\u001b[38;5;241m=\u001b[39m\u001b[38;5;241m0\u001b[39m, vmax\u001b[38;5;241m=\u001b[39m\u001b[38;5;241m4\u001b[39m))\n\u001b[1;32m     68\u001b[0m sm\u001b[38;5;241m.\u001b[39mset_array([])\n\u001b[0;32m---> 69\u001b[0m cbar \u001b[38;5;241m=\u001b[39m \u001b[43mplt\u001b[49m\u001b[38;5;241;43m.\u001b[39;49m\u001b[43mcolorbar\u001b[49m\u001b[43m(\u001b[49m\u001b[43msm\u001b[49m\u001b[43m)\u001b[49m\n\u001b[1;32m     70\u001b[0m cbar\u001b[38;5;241m.\u001b[39mset_label(\u001b[38;5;124m'\u001b[39m\u001b[38;5;124mQuintile within Rating Group\u001b[39m\u001b[38;5;124m'\u001b[39m, fontsize\u001b[38;5;241m=\u001b[39m\u001b[38;5;241m10\u001b[39m)\n\u001b[1;32m     71\u001b[0m cbar\u001b[38;5;241m.\u001b[39mset_ticks([\u001b[38;5;241m0.4\u001b[39m, \u001b[38;5;241m1.2\u001b[39m, \u001b[38;5;241m2\u001b[39m, \u001b[38;5;241m2.8\u001b[39m, \u001b[38;5;241m3.6\u001b[39m])\n",
      "File \u001b[0;32m~/.pyenv/versions/3.12.9/envs/jupyter/lib/python3.12/site-packages/matplotlib/pyplot.py:2532\u001b[0m, in \u001b[0;36mcolorbar\u001b[0;34m(mappable, cax, ax, **kwargs)\u001b[0m\n\u001b[1;32m   2527\u001b[0m     \u001b[38;5;28;01mif\u001b[39;00m mappable \u001b[38;5;129;01mis\u001b[39;00m \u001b[38;5;28;01mNone\u001b[39;00m:\n\u001b[1;32m   2528\u001b[0m         \u001b[38;5;28;01mraise\u001b[39;00m \u001b[38;5;167;01mRuntimeError\u001b[39;00m(\u001b[38;5;124m'\u001b[39m\u001b[38;5;124mNo mappable was found to use for colorbar \u001b[39m\u001b[38;5;124m'\u001b[39m\n\u001b[1;32m   2529\u001b[0m                            \u001b[38;5;124m'\u001b[39m\u001b[38;5;124mcreation. First define a mappable such as \u001b[39m\u001b[38;5;124m'\u001b[39m\n\u001b[1;32m   2530\u001b[0m                            \u001b[38;5;124m'\u001b[39m\u001b[38;5;124man image (with imshow) or a contour set (\u001b[39m\u001b[38;5;124m'\u001b[39m\n\u001b[1;32m   2531\u001b[0m                            \u001b[38;5;124m'\u001b[39m\u001b[38;5;124mwith contourf).\u001b[39m\u001b[38;5;124m'\u001b[39m)\n\u001b[0;32m-> 2532\u001b[0m ret \u001b[38;5;241m=\u001b[39m \u001b[43mgcf\u001b[49m\u001b[43m(\u001b[49m\u001b[43m)\u001b[49m\u001b[38;5;241;43m.\u001b[39;49m\u001b[43mcolorbar\u001b[49m\u001b[43m(\u001b[49m\u001b[43mmappable\u001b[49m\u001b[43m,\u001b[49m\u001b[43m \u001b[49m\u001b[43mcax\u001b[49m\u001b[38;5;241;43m=\u001b[39;49m\u001b[43mcax\u001b[49m\u001b[43m,\u001b[49m\u001b[43m \u001b[49m\u001b[43max\u001b[49m\u001b[38;5;241;43m=\u001b[39;49m\u001b[43max\u001b[49m\u001b[43m,\u001b[49m\u001b[43m \u001b[49m\u001b[38;5;241;43m*\u001b[39;49m\u001b[38;5;241;43m*\u001b[39;49m\u001b[43mkwargs\u001b[49m\u001b[43m)\u001b[49m\n\u001b[1;32m   2533\u001b[0m \u001b[38;5;28;01mreturn\u001b[39;00m ret\n",
      "File \u001b[0;32m~/.pyenv/versions/3.12.9/envs/jupyter/lib/python3.12/site-packages/matplotlib/figure.py:1273\u001b[0m, in \u001b[0;36mFigureBase.colorbar\u001b[0;34m(self, mappable, cax, ax, use_gridspec, **kwargs)\u001b[0m\n\u001b[1;32m   1271\u001b[0m \u001b[38;5;28;01mif\u001b[39;00m cax \u001b[38;5;129;01mis\u001b[39;00m \u001b[38;5;28;01mNone\u001b[39;00m:\n\u001b[1;32m   1272\u001b[0m     \u001b[38;5;28;01mif\u001b[39;00m ax \u001b[38;5;129;01mis\u001b[39;00m \u001b[38;5;28;01mNone\u001b[39;00m:\n\u001b[0;32m-> 1273\u001b[0m         \u001b[38;5;28;01mraise\u001b[39;00m \u001b[38;5;167;01mValueError\u001b[39;00m(\n\u001b[1;32m   1274\u001b[0m             \u001b[38;5;124m'\u001b[39m\u001b[38;5;124mUnable to determine Axes to steal space for Colorbar. \u001b[39m\u001b[38;5;124m'\u001b[39m\n\u001b[1;32m   1275\u001b[0m             \u001b[38;5;124m'\u001b[39m\u001b[38;5;124mEither provide the *cax* argument to use as the Axes for \u001b[39m\u001b[38;5;124m'\u001b[39m\n\u001b[1;32m   1276\u001b[0m             \u001b[38;5;124m'\u001b[39m\u001b[38;5;124mthe Colorbar, provide the *ax* argument to steal space \u001b[39m\u001b[38;5;124m'\u001b[39m\n\u001b[1;32m   1277\u001b[0m             \u001b[38;5;124m'\u001b[39m\u001b[38;5;124mfrom it, or add *mappable* to an Axes.\u001b[39m\u001b[38;5;124m'\u001b[39m)\n\u001b[1;32m   1278\u001b[0m     fig \u001b[38;5;241m=\u001b[39m (  \u001b[38;5;66;03m# Figure of first Axes; logic copied from make_axes.\u001b[39;00m\n\u001b[1;32m   1279\u001b[0m         [\u001b[38;5;241m*\u001b[39max\u001b[38;5;241m.\u001b[39mflat] \u001b[38;5;28;01mif\u001b[39;00m \u001b[38;5;28misinstance\u001b[39m(ax, np\u001b[38;5;241m.\u001b[39mndarray)\n\u001b[1;32m   1280\u001b[0m         \u001b[38;5;28;01melse\u001b[39;00m [\u001b[38;5;241m*\u001b[39max] \u001b[38;5;28;01mif\u001b[39;00m np\u001b[38;5;241m.\u001b[39miterable(ax)\n\u001b[1;32m   1281\u001b[0m         \u001b[38;5;28;01melse\u001b[39;00m [ax])[\u001b[38;5;241m0\u001b[39m]\u001b[38;5;241m.\u001b[39mget_figure(root\u001b[38;5;241m=\u001b[39m\u001b[38;5;28;01mFalse\u001b[39;00m)\n\u001b[1;32m   1282\u001b[0m     current_ax \u001b[38;5;241m=\u001b[39m fig\u001b[38;5;241m.\u001b[39mgca()\n",
      "\u001b[0;31mValueError\u001b[0m: Unable to determine Axes to steal space for Colorbar. Either provide the *cax* argument to use as the Axes for the Colorbar, provide the *ax* argument to steal space from it, or add *mappable* to an Axes."
     ]
    },
    {
     "data": {
      "image/png": "[encoded data removed]",
      "text/plain": [
       "<Figure size 1200x800 with 1 Axes>"
      ]
     },
     "metadata": {},
     "output_type": "display_data"
    }
   ],
   "source": [
    "import matplotlib.pyplot as plt\n",
    "import numpy as np\n",
    "import pandas as pd\n",
    "from matplotlib.colors import ListedColormap\n",
    "\n",
    "# Make sure you have the word_count column\n",
    "if 'word_count' not in train.columns:\n",
    "    train['word_count'] = train['text'].apply(lambda x: len(str(x).split()))\n",
    "\n",
    "# Create a figure\n",
    "plt.figure(figsize=(12, 8))\n",
    "\n",
    "# Define a colormap\n",
    "colors = ['#2c7bb6', '#abd9e9', '#ffffbf', '#fdae61', '#d7191c']  # Blue to Red\n",
    "cmap = ListedColormap(colors)\n",
    "\n",
    "# For each rating value\n",
    "for rating in sorted(train['rating'].unique()):\n",
    "    # Get the subset of data for this rating\n",
    "    subset = train[train['rating'] == rating]\n",
    "    \n",
    "    if len(subset) > 0:\n",
    "        # Calculate quintiles for this rating's word counts\n",
    "        quintiles = pd.qcut(subset['word_count'], q=5, labels=False, duplicates='drop')\n",
    "        \n",
    "        # If there are enough data points to create quintiles\n",
    "        if len(np.unique(quintiles)) > 1:\n",
    "            # Plot points with color based on quintile\n",
    "            plt.scatter(\n",
    "                [rating] * len(subset),   # x-values (all the same rating)\n",
    "                subset['word_count'],     # y-values (word counts)\n",
    "                c=quintiles,              # color based on quintile\n",
    "                cmap=cmap,                # color map\n",
    "                alpha=0.7,                # transparency\n",
    "                s=30                      # size of points\n",
    "            )\n",
    "        else:\n",
    "            # Not enough data points for quintiles, use single color\n",
    "            plt.scatter(\n",
    "                [rating] * len(subset),\n",
    "                subset['word_count'],\n",
    "                color=colors[2],  # Middle color\n",
    "                alpha=0.7,\n",
    "                s=30\n",
    "            )\n",
    "\n",
    "# Add a trend line\n",
    "x = train['rating']\n",
    "y = train['word_count']\n",
    "z = np.polyfit(x, y, 1)\n",
    "p = np.poly1d(z)\n",
    "plt.plot(np.unique(x), p(np.unique(x)), \"k--\", lw=2)\n",
    "\n",
    "# Calculate correlation coefficient\n",
    "correlation = np.corrcoef(train['rating'], train['word_count'])[0, 1]\n",
    "\n",
    "# Add labels and title\n",
    "plt.xlabel('Rating', fontsize=12)\n",
    "plt.ylabel('Word Count', fontsize=12)\n",
    "plt.title(f'Correlation between Rating and Word Count (r={correlation:.4f})', fontsize=14)\n",
    "plt.xticks(np.arange(0, 11, 1))  # Set x-axis ticks to integers 0-10\n",
    "plt.grid(True, alpha=0.3)\n",
    "\n",
    "# Add a color bar legend\n",
    "from matplotlib.cm import ScalarMappable\n",
    "from matplotlib.colors import Normalize\n",
    "sm = ScalarMappable(cmap=cmap, norm=Normalize(vmin=0, vmax=4))\n",
    "sm.set_array([])\n",
    "cbar = plt.colorbar(sm)\n",
    "cbar.set_label('Quintile within Rating Group', fontsize=10)\n",
    "cbar.set_ticks([0.4, 1.2, 2, 2.8, 3.6])\n",
    "cbar.set_ticklabels(['1st', '2nd', '3rd', '4th', '5th'])\n",
    "\n",
    "plt.tight_layout()\n",
    "plt.show()"
   ]
  },
  {
   "cell_type": "code",
   "execution_count": null,
   "id": "1aab4f5f-e622-4414-9ed9-8dbb7a48f9b7",
   "metadata": {},
   "outputs": [],
   "source": []
  }
 ],
 "metadata": {
  "kernelspec": {
   "display_name": "Python 3 (ipykernel)",
   "language": "python",
   "name": "python3"
  },
  "language_info": {
   "codemirror_mode": {
    "name": "ipython",
    "version": 3
   },
   "file_extension": ".py",
   "mimetype": "text/x-python",
   "name": "python",
   "nbconvert_exporter": "python",
   "pygments_lexer": "ipython3",
   "version": "3.12.9"
  }
 },
 "nbformat": 4,
 "nbformat_minor": 5
}
