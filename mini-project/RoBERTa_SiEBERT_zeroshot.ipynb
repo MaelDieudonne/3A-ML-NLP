{
 "cells": [
  {
   "cell_type": "code",
   "execution_count": 1,
   "id": "13a2ecc8-6384-471b-964d-f1a536724bbc",
   "metadata": {},
   "outputs": [],
   "source": [
    "import numpy as np\n",
    "import os\n",
    "import pandas as pd\n",
    "import torch\n",
    "\n",
    "from sklearn.metrics import accuracy_score\n",
    "from tqdm import tqdm\n",
    "from transformers import pipeline"
   ]
  },
  {
   "cell_type": "code",
   "execution_count": 2,
   "id": "c28bb310-448d-459d-8c2b-d8983d35f707",
   "metadata": {},
   "outputs": [],
   "source": [
    "# Set device\n",
    "if torch.cuda.is_available(): device = torch.device(\"cuda\")\n",
    "elif torch.backends.mps.is_available(): device = torch.device(\"mps\")\n",
    "else: device = torch.device(\"cpu\")\n",
    "\n",
    "# Avoid issues with multithreading\n",
    "os.environ[\"TOKENIZERS_PARALLELISM\"] = \"false\""
   ]
  },
  {
   "cell_type": "code",
   "execution_count": 3,
   "id": "39025866-c7e2-42e0-a78e-026e977f62cf",
   "metadata": {},
   "outputs": [],
   "source": [
    "train = pd.read_csv(\"data/processed/train.csv\")\n",
    "test = pd.read_csv(\"data/processed/test.csv\")"
   ]
  },
  {
   "cell_type": "markdown",
   "id": "4faf3cb6-c4db-4309-ab26-fd72ea7319cf",
   "metadata": {},
   "source": [
    "# Zero-shot classification with RoBERTa"
   ]
  },
  {
   "cell_type": "code",
   "execution_count": 4,
   "id": "a03c2c2a-6f13-4a06-985d-bf8947466905",
   "metadata": {},
   "outputs": [
    {
     "name": "stderr",
     "output_type": "stream",
     "text": [
      "Some weights of the model checkpoint at roberta-large-mnli were not used when initializing RobertaForSequenceClassification: ['roberta.pooler.dense.bias', 'roberta.pooler.dense.weight']\n",
      "- This IS expected if you are initializing RobertaForSequenceClassification from the checkpoint of a model trained on another task or with another architecture (e.g. initializing a BertForSequenceClassification model from a BertForPreTraining model).\n",
      "- This IS NOT expected if you are initializing RobertaForSequenceClassification from the checkpoint of a model that you expect to be exactly identical (initializing a BertForSequenceClassification model from a BertForSequenceClassification model).\n",
      "Device set to use mps\n"
     ]
    }
   ],
   "source": [
    "classifier = pipeline(\"zero-shot-classification\",\n",
    "                      model = \"roberta-large-mnli\",\n",
    "                      framework = \"pt\", # Using PyTorch to avoid conflicts with Keras\n",
    "                      device = device)"
   ]
  },
  {
   "cell_type": "code",
   "execution_count": 5,
   "id": "d3d5c326-8981-4243-9534-150357c12c68",
   "metadata": {
    "scrolled": true
   },
   "outputs": [
    {
     "name": "stderr",
     "output_type": "stream",
     "text": [
      "100%|██████████| 25000/25000 [19:28<00:00, 21.39reviews/s]\n"
     ]
    }
   ],
   "source": [
    "def get_sentiment(text):\n",
    "    result = classifier(text[:512], candidate_labels = [\"positive\", \"negative\"])\n",
    "    sentiment = result[\"labels\"][0]\n",
    "    return sentiment\n",
    "\n",
    "tqdm.pandas(unit = 'reviews')\n",
    "test[\"RoBERTa_base\"] = test[\"text\"].progress_apply(get_sentiment)"
   ]
  },
  {
   "cell_type": "code",
   "execution_count": 6,
   "id": "c0434776-8c15-49d8-985c-d188956e8663",
   "metadata": {},
   "outputs": [],
   "source": [
    "os.makedirs(\"output/\", exist_ok=True)\n",
    "test[['review_id', 'RoBERTa_base']].to_csv(\"output/RoBERTa_base.csv\")"
   ]
  },
  {
   "cell_type": "code",
   "execution_count": 7,
   "id": "b551d1de-b375-4eb6-85a2-47ca5227422f",
   "metadata": {},
   "outputs": [
    {
     "name": "stdout",
     "output_type": "stream",
     "text": [
      "Accuracy: 0.7953\n"
     ]
    }
   ],
   "source": [
    "accuracy = accuracy_score(test['sentiment'], test['RoBERTa_base'])\n",
    "print(f\"Accuracy: {accuracy:.4f}\")"
   ]
  },
  {
   "cell_type": "markdown",
   "id": "053870f3-10e9-428f-a762-6ea7eb0e18bd",
   "metadata": {},
   "source": [
    "# Zero-shot classification with SiEBERT"
   ]
  },
  {
   "cell_type": "code",
   "execution_count": 8,
   "id": "a3f36797-f9a9-47b7-8b3e-8ded6afc5365",
   "metadata": {},
   "outputs": [
    {
     "name": "stderr",
     "output_type": "stream",
     "text": [
      "Device set to use mps\n"
     ]
    }
   ],
   "source": [
    "classifier = pipeline(\"sentiment-analysis\",\n",
    "                      model = \"siebert/sentiment-roberta-large-english\",\n",
    "                      framework = \"pt\", # Using PyTorch to avoid conflicts with Keras\n",
    "                      device = device)"
   ]
  },
  {
   "cell_type": "code",
   "execution_count": 9,
   "id": "670141a9-9d86-46a4-ab55-cfcc906bc599",
   "metadata": {},
   "outputs": [
    {
     "name": "stderr",
     "output_type": "stream",
     "text": [
      "100%|██████████| 25000/25000 [09:54<00:00, 42.03reviews/s]\n"
     ]
    }
   ],
   "source": [
    "def get_sentiment(text):\n",
    "    result = classifier(text[:512])[0]\n",
    "    sentiment = result['label'].lower()\n",
    "    return sentiment\n",
    "\n",
    "tqdm.pandas(unit = 'reviews')\n",
    "test[\"SiEBERT\"] = test[\"text\"].progress_apply(get_sentiment)"
   ]
  },
  {
   "cell_type": "code",
   "execution_count": 10,
   "id": "a0337888-6f0b-48e3-8214-74b935a0196d",
   "metadata": {},
   "outputs": [],
   "source": [
    "os.makedirs(\"output/\", exist_ok=True)\n",
    "test[['review_id', 'SiEBERT']].to_csv(\"output/SiEBERT.csv\")"
   ]
  },
  {
   "cell_type": "code",
   "execution_count": 11,
   "id": "c13dc1eb-0796-4d71-b918-16526938ccc5",
   "metadata": {},
   "outputs": [
    {
     "name": "stdout",
     "output_type": "stream",
     "text": [
      "Accuracy: 0.9048\n"
     ]
    }
   ],
   "source": [
    "accuracy = accuracy_score(test['sentiment'], test['SiEBERT'])\n",
    "print(f\"Accuracy: {accuracy:.4f}\")"
   ]
  },
  {
   "cell_type": "code",
   "execution_count": null,
   "id": "f0081f99-a14b-459b-8717-50a921ae97d7",
   "metadata": {},
   "outputs": [],
   "source": []
  }
 ],
 "metadata": {
  "kernelspec": {
   "display_name": "Python 3 (ipykernel)",
   "language": "python",
   "name": "python3"
  },
  "language_info": {
   "codemirror_mode": {
    "name": "ipython",
    "version": 3
   },
   "file_extension": ".py",
   "mimetype": "text/x-python",
   "name": "python",
   "nbconvert_exporter": "python",
   "pygments_lexer": "ipython3",
   "version": "3.12.9"
  }
 },
 "nbformat": 4,
 "nbformat_minor": 5
}
