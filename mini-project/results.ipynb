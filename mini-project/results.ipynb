{
 "cells": [
  {
   "cell_type": "code",
   "execution_count": 1,
   "id": "13a2ecc8-6384-471b-964d-f1a536724bbc",
   "metadata": {},
   "outputs": [],
   "source": [
    "import pandas as pd\n",
    "from sklearn.metrics import accuracy_score"
   ]
  },
  {
   "cell_type": "markdown",
   "id": "70424075-f9a7-457d-a4a7-e6812d29c770",
   "metadata": {},
   "source": [
    "# Merge results"
   ]
  },
  {
   "cell_type": "code",
   "execution_count": 2,
   "id": "39025866-c7e2-42e0-a78e-026e977f62cf",
   "metadata": {},
   "outputs": [],
   "source": [
    "results = pd.read_csv(\"data/processed/test.csv\")"
   ]
  },
  {
   "cell_type": "code",
   "execution_count": 3,
   "id": "db702ddb-51ba-4b51-bdbf-7bd4c8e9ccca",
   "metadata": {},
   "outputs": [],
   "source": [
    "RoBERTa_base = pd.read_csv(\"output/RoBERTa_base.csv\")\n",
    "results = pd.merge(results, RoBERTa_base, on = 'review_id')"
   ]
  },
  {
   "cell_type": "code",
   "execution_count": null,
   "id": "789d1aae-ff92-4c60-9bb3-a18e2a05995f",
   "metadata": {},
   "outputs": [],
   "source": [
    "RoBERTa_ft = pd.read_csv(\"output/RoBERTa_ft.csv\")\n",
    "results = pd.merge(results, RoBERTa_ft, on = 'review_id')"
   ]
  },
  {
   "cell_type": "code",
   "execution_count": 4,
   "id": "2b9cd83c-b772-4a50-8c50-6ed8e0df1de3",
   "metadata": {},
   "outputs": [],
   "source": [
    "SiEBERT = pd.read_csv(\"output/SiEBERT.csv\")\n",
    "results = pd.merge(results, SiEBERT, on = 'review_id')"
   ]
  },
  {
   "cell_type": "code",
   "execution_count": null,
   "id": "c8ca9758-1dc2-43fd-b0eb-594e1dc77980",
   "metadata": {},
   "outputs": [],
   "source": [
    "GPT = pd.read_csv(\"output/GPT.csv\")\n",
    "results = pd.merge(results, GPT, on = 'review_id')"
   ]
  },
  {
   "cell_type": "markdown",
   "id": "d3db0228-7937-4750-9574-d97bb8e3088f",
   "metadata": {},
   "source": [
    "# Compare performances"
   ]
  },
  {
   "cell_type": "code",
   "execution_count": 5,
   "id": "f0cf3ae0-8172-40e6-a1b9-35a7af44c996",
   "metadata": {},
   "outputs": [],
   "source": [
    "# models = [\"RoBERTa_base\", \"RoBERTa_ft\", \"SiEBERT\", \"GPT\"]\n",
    "models = [\"RoBERTa_base\", \"SiEBERT\"]"
   ]
  },
  {
   "cell_type": "markdown",
   "id": "5de52361-4590-4a71-8a83-040da7fe5df1",
   "metadata": {},
   "source": [
    "## Average"
   ]
  },
  {
   "cell_type": "code",
   "execution_count": 6,
   "id": "048b4bab-f40c-4384-8be6-4432c3440cff",
   "metadata": {},
   "outputs": [
    {
     "data": {
      "text/html": [
       "<div>\n",
       "<style scoped>\n",
       "    .dataframe tbody tr th:only-of-type {\n",
       "        vertical-align: middle;\n",
       "    }\n",
       "\n",
       "    .dataframe tbody tr th {\n",
       "        vertical-align: top;\n",
       "    }\n",
       "\n",
       "    .dataframe thead th {\n",
       "        text-align: right;\n",
       "    }\n",
       "</style>\n",
       "<table border=\"1\" class=\"dataframe\">\n",
       "  <thead>\n",
       "    <tr style=\"text-align: right;\">\n",
       "      <th></th>\n",
       "      <th>Model</th>\n",
       "      <th>Accuracy</th>\n",
       "    </tr>\n",
       "  </thead>\n",
       "  <tbody>\n",
       "    <tr>\n",
       "      <th>0</th>\n",
       "      <td>RoBERTa_base</td>\n",
       "      <td>0.79532</td>\n",
       "    </tr>\n",
       "    <tr>\n",
       "      <th>1</th>\n",
       "      <td>SiEBERT</td>\n",
       "      <td>0.90484</td>\n",
       "    </tr>\n",
       "  </tbody>\n",
       "</table>\n",
       "</div>"
      ],
      "text/plain": [
       "          Model  Accuracy\n",
       "0  RoBERTa_base   0.79532\n",
       "1       SiEBERT   0.90484"
      ]
     },
     "execution_count": 6,
     "metadata": {},
     "output_type": "execute_result"
    }
   ],
   "source": [
    "accuracies = {model: accuracy_score(results[\"sentiment\"], results[model]) for model in models}\n",
    "accuracy_avg = pd.DataFrame(accuracies.items(), columns=[\"Model\", \"Accuracy\"])\n",
    "\n",
    "accuracy_avg"
   ]
  },
  {
   "cell_type": "markdown",
   "id": "c6133364-570a-4282-941c-e255f98758cc",
   "metadata": {},
   "source": [
    "## By ratings / sentiments"
   ]
  },
  {
   "cell_type": "code",
   "execution_count": 17,
   "id": "c42099c0-98c6-4d38-bb48-e60141754a04",
   "metadata": {
    "scrolled": true
   },
   "outputs": [
    {
     "data": {
      "text/html": [
       "<div>\n",
       "<style scoped>\n",
       "    .dataframe tbody tr th:only-of-type {\n",
       "        vertical-align: middle;\n",
       "    }\n",
       "\n",
       "    .dataframe tbody tr th {\n",
       "        vertical-align: top;\n",
       "    }\n",
       "\n",
       "    .dataframe thead th {\n",
       "        text-align: right;\n",
       "    }\n",
       "</style>\n",
       "<table border=\"1\" class=\"dataframe\">\n",
       "  <thead>\n",
       "    <tr style=\"text-align: right;\">\n",
       "      <th></th>\n",
       "      <th>rating</th>\n",
       "      <th>RoBERTa_base</th>\n",
       "      <th>SiEBERT</th>\n",
       "    </tr>\n",
       "  </thead>\n",
       "  <tbody>\n",
       "    <tr>\n",
       "      <th>0</th>\n",
       "      <td>1</td>\n",
       "      <td>0.955396</td>\n",
       "      <td>0.954799</td>\n",
       "    </tr>\n",
       "    <tr>\n",
       "      <th>1</th>\n",
       "      <td>2</td>\n",
       "      <td>0.929192</td>\n",
       "      <td>0.926151</td>\n",
       "    </tr>\n",
       "    <tr>\n",
       "      <th>2</th>\n",
       "      <td>3</td>\n",
       "      <td>0.896891</td>\n",
       "      <td>0.869736</td>\n",
       "    </tr>\n",
       "    <tr>\n",
       "      <th>3</th>\n",
       "      <td>4</td>\n",
       "      <td>0.866793</td>\n",
       "      <td>0.800380</td>\n",
       "    </tr>\n",
       "    <tr>\n",
       "      <th>4</th>\n",
       "      <td>7</td>\n",
       "      <td>0.504551</td>\n",
       "      <td>0.810143</td>\n",
       "    </tr>\n",
       "    <tr>\n",
       "      <th>5</th>\n",
       "      <td>8</td>\n",
       "      <td>0.618947</td>\n",
       "      <td>0.900351</td>\n",
       "    </tr>\n",
       "    <tr>\n",
       "      <th>6</th>\n",
       "      <td>9</td>\n",
       "      <td>0.696246</td>\n",
       "      <td>0.927048</td>\n",
       "    </tr>\n",
       "    <tr>\n",
       "      <th>7</th>\n",
       "      <td>10</td>\n",
       "      <td>0.764753</td>\n",
       "      <td>0.953591</td>\n",
       "    </tr>\n",
       "  </tbody>\n",
       "</table>\n",
       "</div>"
      ],
      "text/plain": [
       "   rating  RoBERTa_base   SiEBERT\n",
       "0       1      0.955396  0.954799\n",
       "1       2      0.929192  0.926151\n",
       "2       3      0.896891  0.869736\n",
       "3       4      0.866793  0.800380\n",
       "4       7      0.504551  0.810143\n",
       "5       8      0.618947  0.900351\n",
       "6       9      0.696246  0.927048\n",
       "7      10      0.764753  0.953591"
      ]
     },
     "execution_count": 17,
     "metadata": {},
     "output_type": "execute_result"
    }
   ],
   "source": [
    "accuracy_lth = (\n",
    "    results.groupby(\"rating\")\n",
    "    .apply(lambda group: {model: accuracy_score(group[\"sentiment\"], group[model]) for model in models}, include_groups = False)\n",
    "    .apply(pd.Series)\n",
    ").reset_index()\n",
    "accuracy_lth"
   ]
  },
  {
   "cell_type": "markdown",
   "id": "a7415ba2-b9f8-47a7-b1fc-12930cbe46a1",
   "metadata": {},
   "source": [
    "## By review length"
   ]
  },
  {
   "cell_type": "code",
   "execution_count": 7,
   "id": "f406cd72-8dc9-4167-bc94-f26ce7a275b2",
   "metadata": {},
   "outputs": [],
   "source": [
    "results['nb_words'] = results['text'].apply(lambda x: len(x.split()))\n",
    "\n",
    "results[\"nb_words_bin\"] = pd.qcut(results[\"nb_words\"], \n",
    "                                  q = 7, \n",
    "                                  labels = False, \n",
    "                                  duplicates = \"drop\")"
   ]
  },
  {
   "cell_type": "code",
   "execution_count": 18,
   "id": "89037793-5913-446e-9e4b-e8f08b252ee6",
   "metadata": {},
   "outputs": [
    {
     "data": {
      "text/html": [
       "<div>\n",
       "<style scoped>\n",
       "    .dataframe tbody tr th:only-of-type {\n",
       "        vertical-align: middle;\n",
       "    }\n",
       "\n",
       "    .dataframe tbody tr th {\n",
       "        vertical-align: top;\n",
       "    }\n",
       "\n",
       "    .dataframe thead th {\n",
       "        text-align: right;\n",
       "    }\n",
       "</style>\n",
       "<table border=\"1\" class=\"dataframe\">\n",
       "  <thead>\n",
       "    <tr style=\"text-align: right;\">\n",
       "      <th></th>\n",
       "      <th>nb_words_bin</th>\n",
       "      <th>RoBERTa_base</th>\n",
       "      <th>SiEBERT</th>\n",
       "    </tr>\n",
       "  </thead>\n",
       "  <tbody>\n",
       "    <tr>\n",
       "      <th>0</th>\n",
       "      <td>0</td>\n",
       "      <td>0.890789</td>\n",
       "      <td>0.952565</td>\n",
       "    </tr>\n",
       "    <tr>\n",
       "      <th>1</th>\n",
       "      <td>1</td>\n",
       "      <td>0.847671</td>\n",
       "      <td>0.942466</td>\n",
       "    </tr>\n",
       "    <tr>\n",
       "      <th>2</th>\n",
       "      <td>2</td>\n",
       "      <td>0.840832</td>\n",
       "      <td>0.937570</td>\n",
       "    </tr>\n",
       "    <tr>\n",
       "      <th>3</th>\n",
       "      <td>3</td>\n",
       "      <td>0.811825</td>\n",
       "      <td>0.920125</td>\n",
       "    </tr>\n",
       "    <tr>\n",
       "      <th>4</th>\n",
       "      <td>4</td>\n",
       "      <td>0.771372</td>\n",
       "      <td>0.897188</td>\n",
       "    </tr>\n",
       "    <tr>\n",
       "      <th>5</th>\n",
       "      <td>5</td>\n",
       "      <td>0.726381</td>\n",
       "      <td>0.865433</td>\n",
       "    </tr>\n",
       "    <tr>\n",
       "      <th>6</th>\n",
       "      <td>6</td>\n",
       "      <td>0.675463</td>\n",
       "      <td>0.816957</td>\n",
       "    </tr>\n",
       "  </tbody>\n",
       "</table>\n",
       "</div>"
      ],
      "text/plain": [
       "   nb_words_bin  RoBERTa_base   SiEBERT\n",
       "0             0      0.890789  0.952565\n",
       "1             1      0.847671  0.942466\n",
       "2             2      0.840832  0.937570\n",
       "3             3      0.811825  0.920125\n",
       "4             4      0.771372  0.897188\n",
       "5             5      0.726381  0.865433\n",
       "6             6      0.675463  0.816957"
      ]
     },
     "execution_count": 18,
     "metadata": {},
     "output_type": "execute_result"
    }
   ],
   "source": [
    "accuracy_lth = (\n",
    "    results.groupby(\"nb_words_bin\")\n",
    "    .apply(lambda group: {model: accuracy_score(group[\"sentiment\"], group[model]) for model in models}, include_groups = False)\n",
    "    .apply(pd.Series)\n",
    ").reset_index()\n",
    "\n",
    "accuracy_lth"
   ]
  },
  {
   "cell_type": "code",
   "execution_count": null,
   "id": "0ab102a4-cdf3-4ad0-83b3-40fb6788453a",
   "metadata": {},
   "outputs": [],
   "source": []
  }
 ],
 "metadata": {
  "kernelspec": {
   "display_name": "Python 3 (ipykernel)",
   "language": "python",
   "name": "python3"
  },
  "language_info": {
   "codemirror_mode": {
    "name": "ipython",
    "version": 3
   },
   "file_extension": ".py",
   "mimetype": "text/x-python",
   "name": "python",
   "nbconvert_exporter": "python",
   "pygments_lexer": "ipython3",
   "version": "3.12.9"
  }
 },
 "nbformat": 4,
 "nbformat_minor": 5
}
