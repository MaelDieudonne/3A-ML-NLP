{
 "cells": [
  {
   "cell_type": "code",
   "execution_count": null,
   "id": "13a2ecc8-6384-471b-964d-f1a536724bbc",
   "metadata": {},
   "outputs": [],
   "source": [
    "import pandas as pd\n",
    "from sklearn.metrics import accuracy_score, classification_report, confusion_matrix, f1_score"
   ]
  },
  {
   "cell_type": "code",
   "execution_count": null,
   "id": "39025866-c7e2-42e0-a78e-026e977f62cf",
   "metadata": {},
   "outputs": [],
   "source": [
    "train = pd.read_csv(\"data/processed/train.csv\")\n",
    "test = pd.read_csv(\"data/processed/test.csv\")"
   ]
  },
  {
   "cell_type": "code",
   "execution_count": null,
   "id": "db702ddb-51ba-4b51-bdbf-7bd4c8e9ccca",
   "metadata": {},
   "outputs": [],
   "source": [
    "base_RoBERTa = pd.read_csv(\"output/RoBERTa_base.csv\")"
   ]
  },
  {
   "cell_type": "code",
   "execution_count": null,
   "id": "6bc36ab6-1e46-4c59-8647-8e474a15d857",
   "metadata": {},
   "outputs": [],
   "source": [
    "accuracy = accuracy_score(test[\"sentiment\"], test[\"zero-shot\"])\n",
    "print(f\"Accuracy: {accuracy:.4f}\")\n",
    "\n",
    "cm = confusion_matrix(test[\"sentiment\"], test[\"zero-shot\"], labels=[\"positive\", \"negative\"])\n",
    "plt.figure(figsize=(5, 4))\n",
    "sns.heatmap(cm, annot=True, fmt=\"d\", cmap=\"Blues\", xticklabels=[\"positive\", \"negative\"], yticklabels=[\"positive\", \"negative\"])\n",
    "plt.xlabel(\"Predicted\")\n",
    "plt.ylabel(\"Actual\")\n",
    "plt.title(\"Confusion Matrix\")\n",
    "plt.show()"
   ]
  },
  {
   "cell_type": "code",
   "execution_count": null,
   "id": "52dd9c44-b9cf-4a80-9a14-dd701c3625c2",
   "metadata": {},
   "outputs": [],
   "source": [
    "def get_metrics(group):\n",
    "    accuracy = accuracy_score(group[\"sentiment\"], group[\"zero-shot\"])\n",
    "    f1 = f1_score(group[\"sentiment\"], group[\"zero-shot\"], pos_label=\"positive\")\n",
    "    return pd.Series({\"accuracy\": accuracy, \"f1_score\": f1})"
   ]
  },
  {
   "cell_type": "code",
   "execution_count": null,
   "id": "a3c8f113-e49f-480e-8d8b-a22e2c8c6d8d",
   "metadata": {},
   "outputs": [],
   "source": [
    "perf_by_rating = test.groupby('rating').apply(get_metrics, include_groups=False)\n",
    "print(perf_by_rating)"
   ]
  },
  {
   "cell_type": "code",
   "execution_count": null,
   "id": "07f5f173-6c1d-4df8-9cd8-1691bc9c28e1",
   "metadata": {},
   "outputs": [],
   "source": [
    "test['review_length'] = test['text'].apply(len)\n",
    "test['review_length'] = pd.qcut(test['review_length'], q=25)\n",
    "perf_by_length = test.groupby('review_length', observed=True).apply(get_metrics, include_groups=False)\n",
    "print(perf_by_length)"
   ]
  },
  {
   "cell_type": "code",
   "execution_count": null,
   "id": "0ab102a4-cdf3-4ad0-83b3-40fb6788453a",
   "metadata": {},
   "outputs": [],
   "source": []
  }
 ],
 "metadata": {
  "kernelspec": {
   "display_name": "Python 3 (ipykernel)",
   "language": "python",
   "name": "python3"
  },
  "language_info": {
   "codemirror_mode": {
    "name": "ipython",
    "version": 3
   },
   "file_extension": ".py",
   "mimetype": "text/x-python",
   "name": "python",
   "nbconvert_exporter": "python",
   "pygments_lexer": "ipython3",
   "version": "3.12.9"
  }
 },
 "nbformat": 4,
 "nbformat_minor": 5
}
