{
 "cells": [
  {
   "cell_type": "code",
   "execution_count": 1,
   "id": "13a2ecc8-6384-471b-964d-f1a536724bbc",
   "metadata": {},
   "outputs": [],
   "source": [
    "import pandas as pd\n",
    "import torch\n",
    "\n",
    "from tqdm import tqdm\n",
    "from transformers import pipeline"
   ]
  },
  {
   "cell_type": "code",
   "execution_count": null,
   "id": "c28bb310-448d-459d-8c2b-d8983d35f707",
   "metadata": {},
   "outputs": [],
   "source": [
    "if torch.cuda.is_available(): device = torch.device(\"cuda\")\n",
    "elif torch.backends.mps.is_available(): device = torch.device(\"mps\")\n",
    "else: device = torch.device(\"cpu\")"
   ]
  },
  {
   "cell_type": "code",
   "execution_count": 2,
   "id": "39025866-c7e2-42e0-a78e-026e977f62cf",
   "metadata": {},
   "outputs": [],
   "source": [
    "train = pd.read_csv(\"data/processed/train.csv\")\n",
    "test = pd.read_csv(\"data/processed/test.csv\")"
   ]
  },
  {
   "cell_type": "markdown",
   "id": "4faf3cb6-c4db-4309-ab26-fd72ea7319cf",
   "metadata": {},
   "source": [
    "# Baseline: zero-shot classification with RoBERTa"
   ]
  },
  {
   "cell_type": "code",
   "execution_count": 15,
   "id": "cfa6b089-1d01-4388-a653-14ac364606ac",
   "metadata": {},
   "outputs": [],
   "source": [
    "test = test.sample(frac=0.01, random_state=42) "
   ]
  },
  {
   "cell_type": "code",
   "execution_count": 16,
   "id": "a03c2c2a-6f13-4a06-985d-bf8947466905",
   "metadata": {},
   "outputs": [
    {
     "name": "stderr",
     "output_type": "stream",
     "text": [
      "Some weights of the model checkpoint at roberta-large-mnli were not used when initializing RobertaForSequenceClassification: ['roberta.pooler.dense.bias', 'roberta.pooler.dense.weight']\n",
      "- This IS expected if you are initializing RobertaForSequenceClassification from the checkpoint of a model trained on another task or with another architecture (e.g. initializing a BertForSequenceClassification model from a BertForPreTraining model).\n",
      "- This IS NOT expected if you are initializing RobertaForSequenceClassification from the checkpoint of a model that you expect to be exactly identical (initializing a BertForSequenceClassification model from a BertForSequenceClassification model).\n",
      "Device set to use mps\n"
     ]
    }
   ],
   "source": [
    "classifier = pipeline(\"zero-shot-classification\",\n",
    "                     model=\"roberta-large-mnli\",\n",
    "                     framework=\"pt\", # Using PyTorch to avoid conflicts with Keras\n",
    "                     device=device)\n",
    "\n",
    "labels = [\"positive\", \"negative\"]"
   ]
  },
  {
   "cell_type": "code",
   "execution_count": 17,
   "id": "c3cd5362-00f2-4bce-a8b4-70afd3fffb6e",
   "metadata": {},
   "outputs": [
    {
     "name": "stderr",
     "output_type": "stream",
     "text": [
      "100%|██████████| 4/4 [00:00<00:00, 12.65it/s]\n"
     ]
    }
   ],
   "source": [
    "tqdm.pandas()\n",
    "\n",
    "test[\"RoBERTa_base\"] = test[\"text\"].progress_apply(\n",
    "    lambda x: classifier(x, candidate_labels=labels)[\"labels\"][0]\n",
    ")"
   ]
  },
  {
   "cell_type": "code",
   "execution_count": 19,
   "id": "c0434776-8c15-49d8-985c-d188956e8663",
   "metadata": {},
   "outputs": [],
   "source": [
    "test[['id', 'RoBERTa_base']].to_csv(\"output/RoBERTa_base.csv\")"
   ]
  }
 ],
 "metadata": {
  "kernelspec": {
   "display_name": "Python 3 (ipykernel)",
   "language": "python",
   "name": "python3"
  },
  "language_info": {
   "codemirror_mode": {
    "name": "ipython",
    "version": 3
   },
   "file_extension": ".py",
   "mimetype": "text/x-python",
   "name": "python",
   "nbconvert_exporter": "python",
   "pygments_lexer": "ipython3",
   "version": "3.12.9"
  }
 },
 "nbformat": 4,
 "nbformat_minor": 5
}
