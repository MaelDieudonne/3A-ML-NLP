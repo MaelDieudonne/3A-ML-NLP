{
 "cells": [
  {
   "cell_type": "markdown",
   "id": "f7a92000-7b82-44c0-8376-1ce30b67c9ba",
   "metadata": {},
   "source": [
    "# Data description"
   ]
  },
  {
   "cell_type": "code",
   "execution_count": null,
   "id": "68687f9f-dfc5-45ba-9bbc-9758e4b6e94f",
   "metadata": {},
   "outputs": [],
   "source": [
    "# import glob\n",
    "import numpy as np\n",
    "import os\n",
    "import pandas as pd\n",
    "import re\n",
    "import requests\n",
    "import tarfile\n",
    "\n",
    "from collections import Counter\n",
    "\n",
    "import matplotlib.pyplot as plt"
   ]
  },
  {
   "cell_type": "code",
   "execution_count": null,
   "id": "39025866-c7e2-42e0-a78e-026e977f62cf",
   "metadata": {},
   "outputs": [],
   "source": [
    "train = pd.read_csv(\"data/processed/train.csv\")\n",
    "test = pd.read_csv(\"data/processed/test.csv\")"
   ]
  },
  {
   "cell_type": "markdown",
   "id": "b21d527e-63ed-4b1e-b77f-bda67b0a5676",
   "metadata": {},
   "source": [
    "## Unique movies"
   ]
  },
  {
   "cell_type": "code",
   "execution_count": null,
   "id": "29718e43-1300-47ea-bec6-c8ca0133d6d6",
   "metadata": {},
   "outputs": [],
   "source": [
    "common_ids = set(train['id'].unique()) & set(test['id'].unique())\n",
    "count_common_ids = len(common_ids)\n",
    "\n",
    "print(f\"Number of unique id values that appear in both train and test: {count_common_ids}\")"
   ]
  },
  {
   "cell_type": "markdown",
   "id": "9042c620-f965-4fdb-8260-7e73bca8a8c0",
   "metadata": {},
   "source": [
    "## Ratings"
   ]
  },
  {
   "cell_type": "code",
   "execution_count": null,
   "id": "1378dfcc-497d-40a9-82f3-ce160682bde6",
   "metadata": {},
   "outputs": [],
   "source": [
    "plt.figure(figsize=(10, 6))\n",
    "\n",
    "ratings_range = range(1, 11)\n",
    "x = np.array(ratings_range)\n",
    "width = 0.35\n",
    "\n",
    "train_counts = [train['rating'].value_counts().get(i, 0) for i in ratings_range]\n",
    "test_counts = [test['rating'].value_counts().get(i, 0) for i in ratings_range]\n",
    "\n",
    "plt.bar(x - width/2, train_counts, width, color='cornflowerblue', alpha=0.7, label='Train')\n",
    "plt.bar(x + width/2, test_counts, width, color='goldenrod', alpha=0.7, label='Test')\n",
    "\n",
    "plt.xlabel('Ratings')\n",
    "plt.ylabel('Counts')\n",
    "plt.title('Distribution of Ratings in Train and Test Sets')\n",
    "plt.xticks(ratings_range)\n",
    "plt.legend()\n",
    "\n",
    "plt.grid(axis='y', linestyle='--', alpha=0.7)\n",
    "\n",
    "plt.tight_layout()\n",
    "plt.show()"
   ]
  },
  {
   "cell_type": "markdown",
   "id": "1221107e-43ba-45dc-a897-d5c5256e998e",
   "metadata": {},
   "source": [
    "## Length"
   ]
  },
  {
   "cell_type": "code",
   "execution_count": null,
   "id": "67523ecd-7171-44bb-951a-4bc64258c07d",
   "metadata": {},
   "outputs": [],
   "source": [
    "def get_text_stats(df):\n",
    "    # Character length\n",
    "    df['char_length'] = df['text'].apply(len)\n",
    "    char_min = df['char_length'].min()\n",
    "    char_max = df['char_length'].max()\n",
    "    char_avg = df['char_length'].mean()\n",
    "    \n",
    "    # Word length\n",
    "    df['word_count'] = df['text'].apply(lambda x: len(x.split()))\n",
    "    word_min = df['word_count'].min()\n",
    "    word_max = df['word_count'].max()\n",
    "    word_avg = df['word_count'].mean()\n",
    "    \n",
    "    return {\n",
    "        'char_min': char_min,\n",
    "        'char_max': char_max,\n",
    "        'char_avg': round(char_avg, 0),\n",
    "        'word_min': word_min,\n",
    "        'word_max': word_max,\n",
    "        'word_avg': round(word_avg, 0)\n",
    "    }\n",
    "\n",
    "train_stats = get_text_stats(train)\n",
    "test_stats = get_text_stats(test)\n",
    "\n",
    "# Create a comparison dataframe\n",
    "comparison = pd.DataFrame({\n",
    "    'Train': [train_stats['char_min'],\n",
    "              train_stats['char_max'],\n",
    "              train_stats['char_avg'],\n",
    "              train_stats['word_min'],\n",
    "              train_stats['word_max'],\n",
    "              train_stats['word_avg']],\n",
    "    'Test': [test_stats['char_min'],\n",
    "             test_stats['char_max'],\n",
    "             test_stats['char_avg'],\n",
    "             test_stats['word_min'],\n",
    "             test_stats['word_max'],\n",
    "             test_stats['word_avg']]}, \n",
    "    index=['Min Characters',\n",
    "          'Max Characters',\n",
    "          'Avg Characters',\n",
    "          'Min Words',\n",
    "          'Max Words',\n",
    "          'Avg Words'])\n",
    "\n",
    "comparison.style.set_caption('Text Length Statistics').format(\"{:.0f}\")"
   ]
  },
  {
   "cell_type": "markdown",
   "id": "eb9a979f-d8e4-4062-8f43-b9b90f6228df",
   "metadata": {},
   "source": [
    "## Correlation"
   ]
  },
  {
   "cell_type": "code",
   "execution_count": null,
   "id": "31c8b1d0-6ade-42d2-8ca5-7e77d7a09c7c",
   "metadata": {},
   "outputs": [],
   "source": [
    "import scipy.stats as stats\n",
    "\n",
    "correlation, p_value = stats.pearsonr(train['rating'], train['word_count'])\n",
    "\n",
    "print(f\"Pearson correlation coefficient: {correlation:.4f}\")\n",
    "print(f\"P-value: {p_value:.4f}\")"
   ]
  },
  {
   "cell_type": "code",
   "execution_count": null,
   "id": "6e6b5a54-c631-4223-a6ca-6e78f830e62d",
   "metadata": {},
   "outputs": [],
   "source": [
    "word_count_stats = train.groupby('rating')['word_count'].agg(['mean', 'median', 'count'])\n",
    "print(\"\\nWord count statistics by rating:\")\n",
    "print(word_count_stats)"
   ]
  },
  {
   "cell_type": "code",
   "execution_count": null,
   "id": "d2839323-7960-4fc7-a539-02bca50fa638",
   "metadata": {},
   "outputs": [],
   "source": [
    "plt.figure(figsize=(12, 6))\n",
    "plt.boxplot([train[train['rating'] == i]['word_count'] for i in range(0, 11)], \n",
    "           tick_labels=range(0, 11))\n",
    "plt.xlabel('Rating')\n",
    "plt.ylabel('Word Count')\n",
    "plt.title('Word Count Distribution by Rating')\n",
    "plt.grid(True, alpha=0.3)\n",
    "plt.show()"
   ]
  },
  {
   "cell_type": "code",
   "execution_count": null,
   "id": "d61ca751-fd52-426a-be94-c932a0b060dd",
   "metadata": {},
   "outputs": [],
   "source": [
    "import matplotlib.pyplot as plt\n",
    "import numpy as np\n",
    "import pandas as pd\n",
    "from matplotlib.colors import ListedColormap\n",
    "\n",
    "# Make sure you have the word_count column\n",
    "if 'word_count' not in train.columns:\n",
    "    train['word_count'] = train['text'].apply(lambda x: len(str(x).split()))\n",
    "\n",
    "# Create a figure\n",
    "plt.figure(figsize=(12, 8))\n",
    "\n",
    "# Define a colormap\n",
    "colors = ['#2c7bb6', '#abd9e9', '#ffffbf', '#fdae61', '#d7191c']  # Blue to Red\n",
    "cmap = ListedColormap(colors)\n",
    "\n",
    "# For each rating value\n",
    "for rating in sorted(train['rating'].unique()):\n",
    "    # Get the subset of data for this rating\n",
    "    subset = train[train['rating'] == rating]\n",
    "    \n",
    "    if len(subset) > 0:\n",
    "        # Calculate quintiles for this rating's word counts\n",
    "        quintiles = pd.qcut(subset['word_count'], q=5, labels=False, duplicates='drop')\n",
    "        \n",
    "        # If there are enough data points to create quintiles\n",
    "        if len(np.unique(quintiles)) > 1:\n",
    "            # Plot points with color based on quintile\n",
    "            plt.scatter(\n",
    "                [rating] * len(subset),   # x-values (all the same rating)\n",
    "                subset['word_count'],     # y-values (word counts)\n",
    "                c=quintiles,              # color based on quintile\n",
    "                cmap=cmap,                # color map\n",
    "                alpha=0.7,                # transparency\n",
    "                s=30                      # size of points\n",
    "            )\n",
    "        else:\n",
    "            # Not enough data points for quintiles, use single color\n",
    "            plt.scatter(\n",
    "                [rating] * len(subset),\n",
    "                subset['word_count'],\n",
    "                color=colors[2],  # Middle color\n",
    "                alpha=0.7,\n",
    "                s=30\n",
    "            )\n",
    "\n",
    "# Add a trend line\n",
    "x = train['rating']\n",
    "y = train['word_count']\n",
    "z = np.polyfit(x, y, 1)\n",
    "p = np.poly1d(z)\n",
    "plt.plot(np.unique(x), p(np.unique(x)), \"k--\", lw=2)\n",
    "\n",
    "# Calculate correlation coefficient\n",
    "correlation = np.corrcoef(train['rating'], train['word_count'])[0, 1]\n",
    "\n",
    "# Add labels and title\n",
    "plt.xlabel('Rating', fontsize=12)\n",
    "plt.ylabel('Word Count', fontsize=12)\n",
    "plt.title(f'Correlation between Rating and Word Count (r={correlation:.4f})', fontsize=14)\n",
    "plt.xticks(np.arange(0, 11, 1))  # Set x-axis ticks to integers 0-10\n",
    "plt.grid(True, alpha=0.3)\n",
    "\n",
    "# Add a color bar legend\n",
    "from matplotlib.cm import ScalarMappable\n",
    "from matplotlib.colors import Normalize\n",
    "sm = ScalarMappable(cmap=cmap, norm=Normalize(vmin=0, vmax=4))\n",
    "sm.set_array([])\n",
    "cbar = plt.colorbar(sm)\n",
    "cbar.set_label('Quintile within Rating Group', fontsize=10)\n",
    "cbar.set_ticks([0.4, 1.2, 2, 2.8, 3.6])\n",
    "cbar.set_ticklabels(['1st', '2nd', '3rd', '4th', '5th'])\n",
    "\n",
    "plt.tight_layout()\n",
    "plt.show()"
   ]
  },
  {
   "cell_type": "code",
   "execution_count": null,
   "id": "1aab4f5f-e622-4414-9ed9-8dbb7a48f9b7",
   "metadata": {},
   "outputs": [],
   "source": []
  }
 ],
 "metadata": {
  "kernelspec": {
   "display_name": "Python 3 (ipykernel)",
   "language": "python",
   "name": "python3"
  },
  "language_info": {
   "codemirror_mode": {
    "name": "ipython",
    "version": 3
   },
   "file_extension": ".py",
   "mimetype": "text/x-python",
   "name": "python",
   "nbconvert_exporter": "python",
   "pygments_lexer": "ipython3",
   "version": "3.12.9"
  }
 },
 "nbformat": 4,
 "nbformat_minor": 5
}
