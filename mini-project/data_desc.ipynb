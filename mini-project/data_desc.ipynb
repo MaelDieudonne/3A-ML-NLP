{
 "cells": [
  {
   "cell_type": "markdown",
   "id": "f7a92000-7b82-44c0-8376-1ce30b67c9ba",
   "metadata": {},
   "source": [
    "# Data description"
   ]
  },
  {
   "cell_type": "code",
   "execution_count": 1,
   "id": "68687f9f-dfc5-45ba-9bbc-9758e4b6e94f",
   "metadata": {},
   "outputs": [],
   "source": [
    "import matplotlib.pyplot as plt\n",
    "import numpy as np\n",
    "import os\n",
    "import pandas as pd\n",
    "import re\n",
    "import scipy.stats as stats\n",
    "\n",
    "from collections import Counter"
   ]
  },
  {
   "cell_type": "code",
   "execution_count": 2,
   "id": "39025866-c7e2-42e0-a78e-026e977f62cf",
   "metadata": {},
   "outputs": [],
   "source": [
    "train = pd.read_csv(\"data/processed/train.csv\")\n",
    "test = pd.read_csv(\"data/processed/test.csv\")"
   ]
  },
  {
   "cell_type": "markdown",
   "id": "b21d527e-63ed-4b1e-b77f-bda67b0a5676",
   "metadata": {},
   "source": [
    "## Unique movies"
   ]
  },
  {
   "cell_type": "code",
   "execution_count": 3,
   "id": "29718e43-1300-47ea-bec6-c8ca0133d6d6",
   "metadata": {},
   "outputs": [
    {
     "name": "stdout",
     "output_type": "stream",
     "text": [
      "Number of unique id values that appear in both train and test: 12500\n"
     ]
    }
   ],
   "source": [
    "common_ids = set(train['movie_id'].unique()) & set(test['movie_id'].unique())\n",
    "count_common_ids = len(common_ids)\n",
    "\n",
    "print(f\"Number of unique id values that appear in both train and test: {count_common_ids}\")"
   ]
  },
  {
   "cell_type": "markdown",
   "id": "9042c620-f965-4fdb-8260-7e73bca8a8c0",
   "metadata": {},
   "source": [
    "## Ratings"
   ]
  },
  {
   "cell_type": "code",
   "execution_count": 4,
   "id": "1378dfcc-497d-40a9-82f3-ce160682bde6",
   "metadata": {},
   "outputs": [
    {
     "data": {
      "image/png": "[encoded data removed]",
      "text/plain": [
       "<Figure size 1000x600 with 1 Axes>"
      ]
     },
     "metadata": {},
     "output_type": "display_data"
    }
   ],
   "source": [
    "plt.figure(figsize=(10, 6))\n",
    "\n",
    "ratings_range = range(1, 11)\n",
    "x = np.array(ratings_range)\n",
    "width = 0.35\n",
    "\n",
    "train_counts = [train['rating'].value_counts().get(i, 0) for i in ratings_range]\n",
    "test_counts = [test['rating'].value_counts().get(i, 0) for i in ratings_range]\n",
    "\n",
    "plt.bar(x - width/2, train_counts, width, color='cornflowerblue', alpha=0.7, label='Train')\n",
    "plt.bar(x + width/2, test_counts, width, color='goldenrod', alpha=0.7, label='Test')\n",
    "\n",
    "plt.xlabel('Ratings')\n",
    "plt.ylabel('Counts')\n",
    "plt.title('Distribution of Ratings in Train and Test Sets')\n",
    "plt.xticks(ratings_range)\n",
    "plt.legend()\n",
    "\n",
    "plt.grid(axis='y', linestyle='--', alpha=0.7)\n",
    "\n",
    "plt.tight_layout()\n",
    "plt.show()"
   ]
  },
  {
   "cell_type": "markdown",
   "id": "1221107e-43ba-45dc-a897-d5c5256e998e",
   "metadata": {},
   "source": [
    "## Length"
   ]
  },
  {
   "cell_type": "code",
   "execution_count": 5,
   "id": "67523ecd-7171-44bb-951a-4bc64258c07d",
   "metadata": {},
   "outputs": [
    {
     "data": {
      "text/html": [
       "<style type=\"text/css\">\n",
       "</style>\n",
       "<table id=\"T_54816\">\n",
       "  <caption>Reviews Length Statistics</caption>\n",
       "  <thead>\n",
       "    <tr>\n",
       "      <th class=\"blank level0\" >&nbsp;</th>\n",
       "      <th id=\"T_54816_level0_col0\" class=\"col_heading level0 col0\" >Train</th>\n",
       "      <th id=\"T_54816_level0_col1\" class=\"col_heading level0 col1\" >Test</th>\n",
       "    </tr>\n",
       "  </thead>\n",
       "  <tbody>\n",
       "    <tr>\n",
       "      <th id=\"T_54816_level0_row0\" class=\"row_heading level0 row0\" >Min Characters</th>\n",
       "      <td id=\"T_54816_row0_col0\" class=\"data row0 col0\" >52</td>\n",
       "      <td id=\"T_54816_row0_col1\" class=\"data row0 col1\" >32</td>\n",
       "    </tr>\n",
       "    <tr>\n",
       "      <th id=\"T_54816_level0_row1\" class=\"row_heading level0 row1\" >Max Characters</th>\n",
       "      <td id=\"T_54816_row1_col0\" class=\"data row1 col0\" >13604</td>\n",
       "      <td id=\"T_54816_row1_col1\" class=\"data row1 col1\" >12730</td>\n",
       "    </tr>\n",
       "    <tr>\n",
       "      <th id=\"T_54816_level0_row2\" class=\"row_heading level0 row2\" >Avg Characters</th>\n",
       "      <td id=\"T_54816_row2_col0\" class=\"data row2 col0\" >1305</td>\n",
       "      <td id=\"T_54816_row2_col1\" class=\"data row2 col1\" >1274</td>\n",
       "    </tr>\n",
       "    <tr>\n",
       "      <th id=\"T_54816_level0_row3\" class=\"row_heading level0 row3\" >Min Words</th>\n",
       "      <td id=\"T_54816_row3_col0\" class=\"data row3 col0\" >10</td>\n",
       "      <td id=\"T_54816_row3_col1\" class=\"data row3 col1\" >4</td>\n",
       "    </tr>\n",
       "    <tr>\n",
       "      <th id=\"T_54816_level0_row4\" class=\"row_heading level0 row4\" >Max Words</th>\n",
       "      <td id=\"T_54816_row4_col0\" class=\"data row4 col0\" >2459</td>\n",
       "      <td id=\"T_54816_row4_col1\" class=\"data row4 col1\" >2235</td>\n",
       "    </tr>\n",
       "    <tr>\n",
       "      <th id=\"T_54816_level0_row5\" class=\"row_heading level0 row5\" >Avg Words</th>\n",
       "      <td id=\"T_54816_row5_col0\" class=\"data row5 col0\" >231</td>\n",
       "      <td id=\"T_54816_row5_col1\" class=\"data row5 col1\" >226</td>\n",
       "    </tr>\n",
       "  </tbody>\n",
       "</table>\n"
      ],
      "text/plain": [
       "<pandas.io.formats.style.Styler at 0x1421231a0>"
      ]
     },
     "execution_count": 5,
     "metadata": {},
     "output_type": "execute_result"
    }
   ],
   "source": [
    "def get_text_stats(df):\n",
    "    # Character length\n",
    "    df['char_length'] = df['text'].apply(len)\n",
    "    char_min = df['char_length'].min()\n",
    "    char_max = df['char_length'].max()\n",
    "    char_avg = df['char_length'].mean()\n",
    "    \n",
    "    # Word length\n",
    "    df['word_count'] = df['text'].apply(lambda x: len(x.split()))\n",
    "    word_min = df['word_count'].min()\n",
    "    word_max = df['word_count'].max()\n",
    "    word_avg = df['word_count'].mean()\n",
    "    \n",
    "    return {\n",
    "        'char_min': char_min,\n",
    "        'char_max': char_max,\n",
    "        'char_avg': round(char_avg, 0),\n",
    "        'word_min': word_min,\n",
    "        'word_max': word_max,\n",
    "        'word_avg': round(word_avg, 0)\n",
    "    }\n",
    "\n",
    "train_stats = get_text_stats(train)\n",
    "test_stats = get_text_stats(test)\n",
    "\n",
    "comparison = pd.DataFrame({\n",
    "    'Train': [train_stats['char_min'],\n",
    "              train_stats['char_max'],\n",
    "              train_stats['char_avg'],\n",
    "              train_stats['word_min'],\n",
    "              train_stats['word_max'],\n",
    "              train_stats['word_avg']],\n",
    "    'Test': [test_stats['char_min'],\n",
    "             test_stats['char_max'],\n",
    "             test_stats['char_avg'],\n",
    "             test_stats['word_min'],\n",
    "             test_stats['word_max'],\n",
    "             test_stats['word_avg']]}, \n",
    "    index=['Min Characters',\n",
    "          'Max Characters',\n",
    "          'Avg Characters',\n",
    "          'Min Words',\n",
    "          'Max Words',\n",
    "          'Avg Words'])\n",
    "\n",
    "comparison.style.set_caption('Reviews Length Statistics').format(\"{:.0f}\")"
   ]
  },
  {
   "cell_type": "code",
   "execution_count": null,
   "id": "eca84cfa-cb32-41a9-97f2-2b4b1eccad43",
   "metadata": {},
   "outputs": [],
   "source": [
    "fig, axes = plt.subplots(1, 2, figsize=(14, 6), sharex=True, sharey=True)\n",
    "\n",
    "axes[0].hist(test['char_length'], bins=30, color='cornflowerblue', edgecolor='midnightblue')\n",
    "axes[0].set_title('Test Set: Distribution of Token Counts')\n",
    "axes[0].set_xlabel('Number of Tokens')\n",
    "axes[0].set_ylabel('Frequency')\n",
    "\n",
    "axes[1].hist(train['char_length'], bins=30, color='lightcoral', edgecolor='darkred')\n",
    "axes[1].set_title('Train Set: Distribution of Token Counts')\n",
    "axes[1].set_xlabel('Number of Tokens')\n",
    "\n",
    "plt.tight_layout()\n",
    "plt.show()"
   ]
  },
  {
   "cell_type": "markdown",
   "id": "eb9a979f-d8e4-4062-8f43-b9b90f6228df",
   "metadata": {},
   "source": [
    "## Correlation"
   ]
  },
  {
   "cell_type": "code",
   "execution_count": 6,
   "id": "31c8b1d0-6ade-42d2-8ca5-7e77d7a09c7c",
   "metadata": {},
   "outputs": [
    {
     "name": "stdout",
     "output_type": "stream",
     "text": [
      "Pearson correlation coefficient between ratings and reviews length: 0.0148\n",
      "Associated p-value: 0.0193\n"
     ]
    }
   ],
   "source": [
    "correlation, p_value = stats.pearsonr(train['rating'], train['word_count'])\n",
    "\n",
    "print(f\"Pearson correlation coefficient between ratings and reviews length: {correlation:.4f}\")\n",
    "print(f\"Associated p-value: {p_value:.4f}\")"
   ]
  },
  {
   "cell_type": "code",
   "execution_count": 7,
   "id": "6e6b5a54-c631-4223-a6ca-6e78f830e62d",
   "metadata": {},
   "outputs": [
    {
     "data": {
      "text/html": [
       "<style type=\"text/css\">\n",
       "</style>\n",
       "<table id=\"T_fd852\">\n",
       "  <caption>Word count statistics by rating</caption>\n",
       "  <thead>\n",
       "    <tr>\n",
       "      <th class=\"blank level0\" >&nbsp;</th>\n",
       "      <th id=\"T_fd852_level0_col0\" class=\"col_heading level0 col0\" >mean</th>\n",
       "      <th id=\"T_fd852_level0_col1\" class=\"col_heading level0 col1\" >median</th>\n",
       "      <th id=\"T_fd852_level0_col2\" class=\"col_heading level0 col2\" >count</th>\n",
       "    </tr>\n",
       "    <tr>\n",
       "      <th class=\"index_name level0\" >rating</th>\n",
       "      <th class=\"blank col0\" >&nbsp;</th>\n",
       "      <th class=\"blank col1\" >&nbsp;</th>\n",
       "      <th class=\"blank col2\" >&nbsp;</th>\n",
       "    </tr>\n",
       "  </thead>\n",
       "  <tbody>\n",
       "    <tr>\n",
       "      <th id=\"T_fd852_level0_row0\" class=\"row_heading level0 row0\" >1</th>\n",
       "      <td id=\"T_fd852_row0_col0\" class=\"data row0 col0\" >209.362353</td>\n",
       "      <td id=\"T_fd852_row0_col1\" class=\"data row0 col1\" >160.000000</td>\n",
       "      <td id=\"T_fd852_row0_col2\" class=\"data row0 col2\" >5100</td>\n",
       "    </tr>\n",
       "    <tr>\n",
       "      <th id=\"T_fd852_level0_row1\" class=\"row_heading level0 row1\" >2</th>\n",
       "      <td id=\"T_fd852_row1_col0\" class=\"data row1 col0\" >223.788529</td>\n",
       "      <td id=\"T_fd852_row1_col1\" class=\"data row1 col1\" >175.000000</td>\n",
       "      <td id=\"T_fd852_row1_col2\" class=\"data row1 col2\" >2284</td>\n",
       "    </tr>\n",
       "    <tr>\n",
       "      <th id=\"T_fd852_level0_row2\" class=\"row_heading level0 row2\" >3</th>\n",
       "      <td id=\"T_fd852_row2_col0\" class=\"data row2 col0\" >248.116942</td>\n",
       "      <td id=\"T_fd852_row2_col1\" class=\"data row2 col1\" >187.000000</td>\n",
       "      <td id=\"T_fd852_row2_col2\" class=\"data row2 col2\" >2420</td>\n",
       "    </tr>\n",
       "    <tr>\n",
       "      <th id=\"T_fd852_level0_row3\" class=\"row_heading level0 row3\" >4</th>\n",
       "      <td id=\"T_fd852_row3_col0\" class=\"data row3 col0\" >250.983309</td>\n",
       "      <td id=\"T_fd852_row3_col1\" class=\"data row3 col1\" >192.000000</td>\n",
       "      <td id=\"T_fd852_row3_col2\" class=\"data row3 col2\" >2696</td>\n",
       "    </tr>\n",
       "    <tr>\n",
       "      <th id=\"T_fd852_level0_row4\" class=\"row_heading level0 row4\" >7</th>\n",
       "      <td id=\"T_fd852_row4_col0\" class=\"data row4 col0\" >258.310096</td>\n",
       "      <td id=\"T_fd852_row4_col1\" class=\"data row4 col1\" >201.000000</td>\n",
       "      <td id=\"T_fd852_row4_col2\" class=\"data row4 col2\" >2496</td>\n",
       "    </tr>\n",
       "    <tr>\n",
       "      <th id=\"T_fd852_level0_row5\" class=\"row_heading level0 row5\" >8</th>\n",
       "      <td id=\"T_fd852_row5_col0\" class=\"data row5 col0\" >249.900964</td>\n",
       "      <td id=\"T_fd852_row5_col1\" class=\"data row5 col1\" >189.000000</td>\n",
       "      <td id=\"T_fd852_row5_col2\" class=\"data row5 col2\" >3009</td>\n",
       "    </tr>\n",
       "    <tr>\n",
       "      <th id=\"T_fd852_level0_row6\" class=\"row_heading level0 row6\" >9</th>\n",
       "      <td id=\"T_fd852_row6_col0\" class=\"data row6 col0\" >242.923111</td>\n",
       "      <td id=\"T_fd852_row6_col1\" class=\"data row6 col1\" >176.000000</td>\n",
       "      <td id=\"T_fd852_row6_col2\" class=\"data row6 col2\" >2263</td>\n",
       "    </tr>\n",
       "    <tr>\n",
       "      <th id=\"T_fd852_level0_row7\" class=\"row_heading level0 row7\" >10</th>\n",
       "      <td id=\"T_fd852_row7_col0\" class=\"data row7 col0\" >208.063821</td>\n",
       "      <td id=\"T_fd852_row7_col1\" class=\"data row7 col1\" >153.000000</td>\n",
       "      <td id=\"T_fd852_row7_col2\" class=\"data row7 col2\" >4732</td>\n",
       "    </tr>\n",
       "  </tbody>\n",
       "</table>\n"
      ],
      "text/plain": [
       "<pandas.io.formats.style.Styler at 0x1109c0860>"
      ]
     },
     "execution_count": 7,
     "metadata": {},
     "output_type": "execute_result"
    }
   ],
   "source": [
    "word_count_stats = train.groupby('rating')['word_count'].agg(['mean', 'median', 'count'])\n",
    "word_count_stats.style.set_caption('Word count statistics by rating')"
   ]
  },
  {
   "cell_type": "code",
   "execution_count": 8,
   "id": "d2839323-7960-4fc7-a539-02bca50fa638",
   "metadata": {},
   "outputs": [
    {
     "data": {
      "image/png": "[encoded data removed]",
      "text/plain": [
       "<Figure size 1200x600 with 1 Axes>"
      ]
     },
     "metadata": {},
     "output_type": "display_data"
    }
   ],
   "source": [
    "plt.figure(figsize=(12, 6))\n",
    "plt.boxplot([train[train['rating'] == i]['word_count'] for i in range(1, 11)], \n",
    "            tick_labels=range(1, 11))\n",
    "plt.xlabel('Rating')\n",
    "plt.ylabel('Word Count')\n",
    "plt.grid(True, alpha=0.3)\n",
    "plt.show()"
   ]
  },
  {
   "cell_type": "code",
   "execution_count": null,
   "id": "1aab4f5f-e622-4414-9ed9-8dbb7a48f9b7",
   "metadata": {},
   "outputs": [],
   "source": []
  }
 ],
 "metadata": {
  "kernelspec": {
   "display_name": "Python 3 (ipykernel)",
   "language": "python",
   "name": "python3"
  },
  "language_info": {
   "codemirror_mode": {
    "name": "ipython",
    "version": 3
   },
   "file_extension": ".py",
   "mimetype": "text/x-python",
   "name": "python",
   "nbconvert_exporter": "python",
   "pygments_lexer": "ipython3",
   "version": "3.12.9"
  }
 },
 "nbformat": 4,
 "nbformat_minor": 5
}
